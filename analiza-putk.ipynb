{
 "cells": [
  {
   "cell_type": "markdown",
   "id": "disturbed-highway",
   "metadata": {},
   "source": [
    "# ANALIZA PUTK"
   ]
  },
  {
   "cell_type": "markdown",
   "id": "fossil-theorem",
   "metadata": {},
   "source": [
    "## UVOD"
   ]
  },
  {
   "cell_type": "markdown",
   "id": "surgical-threat",
   "metadata": {},
   "source": [
    "Človeku bi se morda lahko zazdelo, da je kokoš kokoš. Rjava, morda malo črna ... Kokoš. Izkaže se, da je različnih pasem (oziroma vrst, kakor jih bom imenovala v nadaljevanju) z niansami precej več, kot bi si človek sprva predstavljal. \n",
    "\n",
    "Podatke o 179 različnih kokošjih vrstah sem 5. 11. 2020 zajela s spletne strani [BackYardChickens](https://www.backyardchickens.com/). Gre za spletno stran, namenjeno vsem vzrediteljem in ljubiteljem kokoši ter ostale perjadi. V zavihku [Reviews](https://www.backyardchickens.com/reviews/categories/chicken-breeds.2/), od koder sem tudi zajemala podatke, je zabeleženih več kot 170 različnih vrst kokoši in njihovih lastnost, poleg tega pa je uporabnikom spletne strani omogočeno tudi ocenjevanje in komentiranje vsake vrste.\n",
    "Zato sem se odločila, da analizo razdelim na dva dela; v prvem delu se bomo posvetili kokšim in njihovim lastnostim, v drugem pa odzivu uporabnikov na posamezno vrsto. \n",
    "\n",
    "Najprej se seznanimo z vsemi podatki, ki sem jih zajela o posamični. Slovenskim imenom in angleškim prevodom v oklepaju, ki se bodo ujemajli z imeni stolpcev v tabelah, bodo po potrebi sledia še krajša pojasnila.\n",
    "\n",
    "Podatki o odzivu uporabnikov na vrsto:\n",
    "- povezava do spletne strani kokoši (link)\n",
    "- vrsta (breed)\n",
    "- ocena (mark): številčna ocena med 1 in 5\n",
    "- število ocen (number of ratings)\n",
    "- število komentarjev (number of comments)\n",
    "- število pisnih ocen (number of reviews): število pisnih ocen, kjer uporabniki poleg števične ocene podajo še prednosti in slabosti vrste ter svoje mnenje o njej\n",
    "- število ogledov (number of views)\n",
    "\n",
    "Podatki o lastnostih kokoši:\n",
    "- vrsta (breed)\n",
    "- tendenca sedenja na jajcu ([broodiness](https://en.wikipedia.org/wiki/Broodiness))\n",
    "- podnebna toleranca (climate tolerance): kakšno podnebje vrsta prenaša bolje\n",
    "- količina jajc (egg productivity)\n",
    "- velikost jajc (egg size)\n",
    "- velikost vrste (breed size)\n",
    "- barva jajc (egg colour)\n",
    "- barva vrste (breed colour)\n",
    "- oblika grebena (comb)\n",
    "- namen (purpose): se vrsta goji zaradi mesa in jajc, ali je bolj dekorativnega značaja\n",
    "- temperament (temperament)\n",
    "\n",
    "#### O pridobivanju podatkov\n",
    "Kot je omenjeno že prej, sem podatke pridobila s spletne strani [BackYardChickens](https://www.backyardchickens.com/reviews/categories/chicken-breeds.2/), in sicer z razdelka [Reviews](https://www.backyardchickens.com/reviews/).\n",
    "Kodo za zajem in obdelavo podatkov ter vse podatke lahko najdete na mojem [GitHub profilu](https://github.com/MancaStrah/Analiza-putk). Natančneje, v datoteki [zajemi-in-analiziraj-putko.py](https://github.com/MancaStrah/Analiza-putk/blob/main/zajemi-in-analiziraj-putko.py) je koda za zajem podatkov, v mapi [obdelani-podatki](https://github.com/MancaStrah/Analiza-putk/tree/main/obdelani-podatki) pa so datoteke z že prečiščenimi podatki."
   ]
  },
  {
   "cell_type": "markdown",
   "id": "burning-bread",
   "metadata": {},
   "source": [
    "## ZAČETNI PODATKI\n",
    "\n",
    "Za začetek si oglejmo osnovno tabelo podatkov, s katero bomo delali. v njej so zajeti vsi podatki o odzivih uporabnikov na posamezne vrste in pa nekaj lastnosti vrst (takšne, kjer je lastnost lahko le ena, npr. velikost vrste, ne pa tudi tistih, kjer jih je lahko več, npr. barva perja).\n",
    "\n"
   ]
  },
  {
   "cell_type": "code",
   "execution_count": 1,
   "id": "respected-passion",
   "metadata": {},
   "outputs": [
    {
     "data": {
      "text/html": [
       "<div>\n",
       "<style scoped>\n",
       "    .dataframe tbody tr th:only-of-type {\n",
       "        vertical-align: middle;\n",
       "    }\n",
       "\n",
       "    .dataframe tbody tr th {\n",
       "        vertical-align: top;\n",
       "    }\n",
       "\n",
       "    .dataframe thead th {\n",
       "        text-align: right;\n",
       "    }\n",
       "</style>\n",
       "<table border=\"1\" class=\"dataframe\">\n",
       "  <thead>\n",
       "    <tr style=\"text-align: right;\">\n",
       "      <th></th>\n",
       "      <th>mark</th>\n",
       "      <th>number of ratings</th>\n",
       "      <th>number of comments</th>\n",
       "      <th>number of reviews</th>\n",
       "      <th>number of views</th>\n",
       "      <th>broodiness</th>\n",
       "      <th>climate tolerance</th>\n",
       "      <th>egg productivity</th>\n",
       "      <th>egg size</th>\n",
       "      <th>breed size</th>\n",
       "    </tr>\n",
       "    <tr>\n",
       "      <th>breed</th>\n",
       "      <th></th>\n",
       "      <th></th>\n",
       "      <th></th>\n",
       "      <th></th>\n",
       "      <th></th>\n",
       "      <th></th>\n",
       "      <th></th>\n",
       "      <th></th>\n",
       "      <th></th>\n",
       "      <th></th>\n",
       "    </tr>\n",
       "  </thead>\n",
       "  <tbody>\n",
       "    <tr>\n",
       "      <th>Aloha Chickens</th>\n",
       "      <td>4.75</td>\n",
       "      <td>4.0</td>\n",
       "      <td>11.0</td>\n",
       "      <td>4.0</td>\n",
       "      <td>16334</td>\n",
       "      <td>average</td>\n",
       "      <td>warmer better</td>\n",
       "      <td>high</td>\n",
       "      <td>small</td>\n",
       "      <td>large</td>\n",
       "    </tr>\n",
       "    <tr>\n",
       "      <th>Altsteirer Styrian Hen</th>\n",
       "      <td>3.00</td>\n",
       "      <td>1.0</td>\n",
       "      <td>1.0</td>\n",
       "      <td>NaN</td>\n",
       "      <td>6471</td>\n",
       "      <td>rare</td>\n",
       "      <td>NaN</td>\n",
       "      <td>high</td>\n",
       "      <td>medium</td>\n",
       "      <td>medium</td>\n",
       "    </tr>\n",
       "    <tr>\n",
       "      <th>Amber Star Hybrid</th>\n",
       "      <td>4.36</td>\n",
       "      <td>11.0</td>\n",
       "      <td>15.0</td>\n",
       "      <td>11.0</td>\n",
       "      <td>21612</td>\n",
       "      <td>rare</td>\n",
       "      <td>any</td>\n",
       "      <td>high</td>\n",
       "      <td>medium</td>\n",
       "      <td>large</td>\n",
       "    </tr>\n",
       "    <tr>\n",
       "      <th>Amber Whites</th>\n",
       "      <td>4.57</td>\n",
       "      <td>7.0</td>\n",
       "      <td>7.0</td>\n",
       "      <td>7.0</td>\n",
       "      <td>18679</td>\n",
       "      <td>rare</td>\n",
       "      <td>any</td>\n",
       "      <td>high</td>\n",
       "      <td>large</td>\n",
       "      <td>large</td>\n",
       "    </tr>\n",
       "    <tr>\n",
       "      <th>Ameraucana</th>\n",
       "      <td>4.21</td>\n",
       "      <td>261.0</td>\n",
       "      <td>343.0</td>\n",
       "      <td>256.0</td>\n",
       "      <td>170825</td>\n",
       "      <td>average</td>\n",
       "      <td>any</td>\n",
       "      <td>medium</td>\n",
       "      <td>medium</td>\n",
       "      <td>large</td>\n",
       "    </tr>\n",
       "    <tr>\n",
       "      <th>...</th>\n",
       "      <td>...</td>\n",
       "      <td>...</td>\n",
       "      <td>...</td>\n",
       "      <td>...</td>\n",
       "      <td>...</td>\n",
       "      <td>...</td>\n",
       "      <td>...</td>\n",
       "      <td>...</td>\n",
       "      <td>...</td>\n",
       "      <td>...</td>\n",
       "    </tr>\n",
       "    <tr>\n",
       "      <th>White Star Hybrid</th>\n",
       "      <td>4.38</td>\n",
       "      <td>8.0</td>\n",
       "      <td>22.0</td>\n",
       "      <td>8.0</td>\n",
       "      <td>22339</td>\n",
       "      <td>rare</td>\n",
       "      <td>warmer better</td>\n",
       "      <td>high</td>\n",
       "      <td>medium</td>\n",
       "      <td>large</td>\n",
       "    </tr>\n",
       "    <tr>\n",
       "      <th>Whiting True Blue</th>\n",
       "      <td>4.50</td>\n",
       "      <td>2.0</td>\n",
       "      <td>6.0</td>\n",
       "      <td>1.0</td>\n",
       "      <td>17384</td>\n",
       "      <td>poor</td>\n",
       "      <td>colder better</td>\n",
       "      <td>high</td>\n",
       "      <td>large</td>\n",
       "      <td>NaN</td>\n",
       "    </tr>\n",
       "    <tr>\n",
       "      <th>Whiting True Green</th>\n",
       "      <td>4.00</td>\n",
       "      <td>1.0</td>\n",
       "      <td>NaN</td>\n",
       "      <td>1.0</td>\n",
       "      <td>10570</td>\n",
       "      <td>poor</td>\n",
       "      <td>colder better</td>\n",
       "      <td>high</td>\n",
       "      <td>large</td>\n",
       "      <td>NaN</td>\n",
       "    </tr>\n",
       "    <tr>\n",
       "      <th>Wyandotte</th>\n",
       "      <td>4.15</td>\n",
       "      <td>255.0</td>\n",
       "      <td>329.0</td>\n",
       "      <td>252.0</td>\n",
       "      <td>116764</td>\n",
       "      <td>frequent</td>\n",
       "      <td>colder better</td>\n",
       "      <td>medium</td>\n",
       "      <td>large</td>\n",
       "      <td>large</td>\n",
       "    </tr>\n",
       "    <tr>\n",
       "      <th>Yokohama</th>\n",
       "      <td>3.50</td>\n",
       "      <td>8.0</td>\n",
       "      <td>8.0</td>\n",
       "      <td>7.0</td>\n",
       "      <td>14146</td>\n",
       "      <td>average</td>\n",
       "      <td>warmer better</td>\n",
       "      <td>low</td>\n",
       "      <td>small</td>\n",
       "      <td>large</td>\n",
       "    </tr>\n",
       "  </tbody>\n",
       "</table>\n",
       "<p>179 rows × 10 columns</p>\n",
       "</div>"
      ],
      "text/plain": [
       "                        mark  number of ratings  number of comments  \\\n",
       "breed                                                                 \n",
       "Aloha Chickens          4.75                4.0                11.0   \n",
       "Altsteirer Styrian Hen  3.00                1.0                 1.0   \n",
       "Amber Star Hybrid       4.36               11.0                15.0   \n",
       "Amber Whites            4.57                7.0                 7.0   \n",
       "Ameraucana              4.21              261.0               343.0   \n",
       "...                      ...                ...                 ...   \n",
       "White Star Hybrid       4.38                8.0                22.0   \n",
       "Whiting True Blue       4.50                2.0                 6.0   \n",
       "Whiting True Green      4.00                1.0                 NaN   \n",
       "Wyandotte               4.15              255.0               329.0   \n",
       "Yokohama                3.50                8.0                 8.0   \n",
       "\n",
       "                        number of reviews  number of views broodiness  \\\n",
       "breed                                                                   \n",
       "Aloha Chickens                        4.0            16334    average   \n",
       "Altsteirer Styrian Hen                NaN             6471       rare   \n",
       "Amber Star Hybrid                    11.0            21612       rare   \n",
       "Amber Whites                          7.0            18679       rare   \n",
       "Ameraucana                          256.0           170825    average   \n",
       "...                                   ...              ...        ...   \n",
       "White Star Hybrid                     8.0            22339       rare   \n",
       "Whiting True Blue                     1.0            17384       poor   \n",
       "Whiting True Green                    1.0            10570       poor   \n",
       "Wyandotte                           252.0           116764   frequent   \n",
       "Yokohama                              7.0            14146    average   \n",
       "\n",
       "                       climate tolerance egg productivity egg size breed size  \n",
       "breed                                                                          \n",
       "Aloha Chickens             warmer better             high    small      large  \n",
       "Altsteirer Styrian Hen               NaN             high   medium     medium  \n",
       "Amber Star Hybrid                    any             high   medium      large  \n",
       "Amber Whites                         any             high    large      large  \n",
       "Ameraucana                           any           medium   medium      large  \n",
       "...                                  ...              ...      ...        ...  \n",
       "White Star Hybrid          warmer better             high   medium      large  \n",
       "Whiting True Blue          colder better             high    large        NaN  \n",
       "Whiting True Green         colder better             high    large        NaN  \n",
       "Wyandotte                  colder better           medium    large      large  \n",
       "Yokohama                   warmer better              low    small      large  \n",
       "\n",
       "[179 rows x 10 columns]"
      ]
     },
     "execution_count": 1,
     "metadata": {},
     "output_type": "execute_result"
    }
   ],
   "source": [
    "import pandas as pd\n",
    "putke = pd.read_csv('../Analiza-putk/obdelani-podatki/putke.csv', index_col='breed')\n",
    "del putke['link']\n",
    "putke"
   ]
  },
  {
   "cell_type": "code",
   "execution_count": 2,
   "id": "incident-mistake",
   "metadata": {},
   "outputs": [
    {
     "data": {
      "text/plain": [
       "179"
      ]
     },
     "execution_count": 2,
     "metadata": {},
     "output_type": "execute_result"
    }
   ],
   "source": [
    "stevilo_vrst = len(putke)\n",
    "stevilo_vrst"
   ]
  },
  {
   "cell_type": "markdown",
   "id": "measured-factor",
   "metadata": {},
   "source": [
    "Kot vidimo, je zabeleženih 179 različnih vrst kokoši."
   ]
  },
  {
   "cell_type": "markdown",
   "id": "radio-floor",
   "metadata": {},
   "source": [
    "## ANALIZA KOKOŠJIH VRST"
   ]
  },
  {
   "cell_type": "markdown",
   "id": "specified-mentor",
   "metadata": {},
   "source": [
    "### Uvod"
   ]
  },
  {
   "cell_type": "markdown",
   "id": "working-insert",
   "metadata": {},
   "source": [
    "Začnimo z analizo kokošjih vrst. Za to bomo poleg podatkov, zbranih v zgoraj prikazani tabeli `putke`, potrebovali še podatke o barvi, temperamentu namenu in obliki grebena vrste ter o barvi jajc.  "
   ]
  },
  {
   "cell_type": "code",
   "execution_count": 3,
   "id": "finished-oliver",
   "metadata": {},
   "outputs": [],
   "source": [
    "jajca = pd.read_csv('../Analiza-putk/obdelani-podatki/barva_jajc.csv')\n",
    "barva = pd.read_csv('../Analiza-putk/obdelani-podatki/barva_vrste.csv')\n",
    "greben = pd.read_csv('../Analiza-putk/obdelani-podatki/comb.csv')\n",
    "namen_vrste = pd.read_csv('../Analiza-putk/obdelani-podatki/purpose.csv')\n",
    "temperament = pd.read_csv('../Analiza-putk/obdelani-podatki/temperament.csv')"
   ]
  },
  {
   "cell_type": "markdown",
   "id": "macro-disease",
   "metadata": {},
   "source": [
    "Za preglednejšo analizo bomo iz prvotne tabele `putke` odstranili trenutno irelevantne podatke."
   ]
  },
  {
   "cell_type": "code",
   "execution_count": 4,
   "id": "statutory-albuquerque",
   "metadata": {},
   "outputs": [],
   "source": [
    "del putke['mark']\n",
    "del putke['number of ratings']\n",
    "del putke['number of comments']\n",
    "del putke['number of reviews']\n",
    "del putke['number of views']"
   ]
  },
  {
   "cell_type": "markdown",
   "id": "global-measure",
   "metadata": {},
   "source": [
    "Sedaj imamo pred sabo vse potrebne podatke in lahko začnemo z analizo.\n",
    "\n",
    "Najprej se bomo seznanili z našimi kokošmi, zato poglejmo, koliko jih je in kakšen je njihov namen. "
   ]
  },
  {
   "cell_type": "code",
   "execution_count": 5,
   "id": "acquired-florida",
   "metadata": {},
   "outputs": [
    {
     "data": {
      "text/plain": [
       "breed purpose\n",
       "brooding        1\n",
       "pet             1\n",
       "ornamental     47\n",
       "meat           76\n",
       "eggs          102\n",
       "dtype: int64"
      ]
     },
     "execution_count": 5,
     "metadata": {},
     "output_type": "execute_result"
    },
    {
     "data": {
      "image/png": "[encoded data removed]",
      "text/plain": [
       "<Figure size 432x288 with 1 Axes>"
      ]
     },
     "metadata": {
      "needs_background": "light"
     },
     "output_type": "display_data"
    }
   ],
   "source": [
    "namen = pd.merge(putke, namen_vrste, left_on='breed', right_on='breed')\n",
    "namen\n",
    "namen.groupby('breed purpose').size().sort_values().plot.bar()\n",
    "stevilo = namen.groupby('breed purpose').size().sort_values()\n",
    "stevilo"
   ]
  },
  {
   "cell_type": "code",
   "execution_count": 6,
   "id": "intense-cedar",
   "metadata": {
    "scrolled": true
   },
   "outputs": [
    {
     "data": {
      "text/plain": [
       "breed purpose\n",
       "brooding       0.558659\n",
       "pet            0.558659\n",
       "ornamental    26.256983\n",
       "meat          42.458101\n",
       "eggs          56.983240\n",
       "dtype: float64"
      ]
     },
     "execution_count": 6,
     "metadata": {},
     "output_type": "execute_result"
    }
   ],
   "source": [
    "odstotek = namen.groupby('breed purpose').size().sort_values().apply(lambda x: 100*x/stevilo_vrst)\n",
    "odstotek"
   ]
  },
  {
   "cell_type": "markdown",
   "id": "dutch-device",
   "metadata": {
    "collapsed": true
   },
   "source": [
    "Od 179 vrst kokoši jih 57,0 % nesnic, to sta 102 vrsti. 42,5 % jih vzrejajo tudi za meso, to je 76 vrst. 47 vrst, 26,3 %, jih je okrasnih, delež tistih, ki pa so zgolj kot hišni ljubljenčki ali pa zgolj za valjenje, je zanemarljiv. \n",
    "Poglejmo, koliko kokoši je uporabnih tako za jajca kot tudi za meso."
   ]
  },
  {
   "cell_type": "code",
   "execution_count": 7,
   "id": "advanced-fleece",
   "metadata": {},
   "outputs": [
    {
     "data": {
      "text/plain": [
       "71"
      ]
     },
     "execution_count": 7,
     "metadata": {},
     "output_type": "execute_result"
    }
   ],
   "source": [
    "meso_ali_jajca = namen[(namen['breed purpose'] == 'eggs') | (namen['breed purpose'] == 'meat')]\n",
    "oboje = (meso_ali_jajca.groupby('breed').count())[(meso_ali_jajca.groupby('breed').count())['breed purpose'] == 2]\n",
    "za_oboje = len(oboje)\n",
    "za_oboje"
   ]
  },
  {
   "cell_type": "code",
   "execution_count": 8,
   "id": "political-joining",
   "metadata": {},
   "outputs": [
    {
     "data": {
      "text/plain": [
       "0.696078431372549"
      ]
     },
     "execution_count": 8,
     "metadata": {},
     "output_type": "execute_result"
    }
   ],
   "source": [
    "za_oboje/102"
   ]
  },
  {
   "cell_type": "code",
   "execution_count": 9,
   "id": "interracial-extraction",
   "metadata": {},
   "outputs": [
    {
     "data": {
      "text/plain": [
       "0.9342105263157895"
      ]
     },
     "execution_count": 9,
     "metadata": {},
     "output_type": "execute_result"
    }
   ],
   "source": [
    "za_oboje/76"
   ]
  },
  {
   "cell_type": "markdown",
   "id": "designing-aurora",
   "metadata": {},
   "source": [
    "Ugotovimo, da je 71 kokošjih vrst uporabnih za jajca in za meso, torej je večina tistih za meso (93,4 %) tudi nesnic, medtem ko je le 70 % nesnic gojenih tudi zavoljo mesa.\n",
    "\n"
   ]
  },
  {
   "cell_type": "markdown",
   "id": "patent-separate",
   "metadata": {},
   "source": [
    "Preverimo sedaj še eno izmed hipotezi, in sicer tole: \n",
    "> Kokoši, ki jih vzrejajo tako za meso kot tudi za jajca, so večje od tistih, ki jih vzrejajo le za jajca.\n"
   ]
  },
  {
   "cell_type": "code",
   "execution_count": 10,
   "id": "detailed-wallet",
   "metadata": {},
   "outputs": [
    {
     "data": {
      "text/plain": [
       "breed size\n",
       "medium     4\n",
       "small      5\n",
       "large     61\n",
       "dtype: int64"
      ]
     },
     "execution_count": 10,
     "metadata": {},
     "output_type": "execute_result"
    },
    {
     "data": {
      "image/png": "[encoded data removed]",
      "text/plain": [
       "<Figure size 432x288 with 1 Axes>"
      ]
     },
     "metadata": {
      "needs_background": "light"
     },
     "output_type": "display_data"
    }
   ],
   "source": [
    "oboje['breed size'] = putke['breed size']\n",
    "stevilo_kokosi_za_meso_in_jajca = oboje.groupby('breed size').size()\n",
    "stevilo_kokosi_za_meso_in_jajca.sort_values().plot.barh()\n",
    "stevilo_kokosi_za_meso_in_jajca.sort_values()"
   ]
  },
  {
   "cell_type": "code",
   "execution_count": 11,
   "id": "endless-asian",
   "metadata": {},
   "outputs": [],
   "source": [
    "za_jajca = namen[namen['breed purpose'] == 'eggs']\n",
    "stevilo_kokosi_za_jajca = za_jajca.groupby('breed size').size()"
   ]
  },
  {
   "cell_type": "code",
   "execution_count": 12,
   "id": "damaged-shadow",
   "metadata": {},
   "outputs": [
    {
     "data": {
      "text/plain": [
       "breed size\n",
       "medium     2\n",
       "small      2\n",
       "large     23\n",
       "dtype: int64"
      ]
     },
     "execution_count": 12,
     "metadata": {},
     "output_type": "execute_result"
    },
    {
     "data": {
      "image/png": "[encoded data removed]",
      "text/plain": [
       "<Figure size 432x288 with 1 Axes>"
      ]
     },
     "metadata": {
      "needs_background": "light"
     },
     "output_type": "display_data"
    }
   ],
   "source": [
    "stevilo_kokosi_samo_za_jajca = stevilo_kokosi_za_jajca - stevilo_kokosi_za_meso_in_jajca\n",
    "stevilo_kokosi_samo_za_jajca.sort_values().plot.barh()\n",
    "stevilo_kokosi_samo_za_jajca.sort_values()"
   ]
  },
  {
   "cell_type": "markdown",
   "id": "ecological-mozambique",
   "metadata": {},
   "source": [
    "Opazimo, da med kokošmi, namenjeni jajcem in mesu, prevladujejo velike vrste, in prav nič drugače ni pri kokošjih vrstah, ki so le nesnice, zato lahko hipotezo, ki pravi, da so kokoši, ki so le nesnice, manjše, ovržemo."
   ]
  },
  {
   "cell_type": "markdown",
   "id": "latter-access",
   "metadata": {},
   "source": [
    "### Oblika grebena"
   ]
  },
  {
   "cell_type": "markdown",
   "id": "together-tuition",
   "metadata": {},
   "source": [
    "Sedaj bomo preučili oblike grebenov kokoši in našli najpogostejšega, s čimer bomo potrdili ali pa ovrgli našo hipotezo:\n",
    "> Večina kokoši ima greben v obliki lista.\n",
    "\n",
    "\n",
    "##### O grebenih\n",
    "Greben je nazobčan izrastek na vrhu kokošje glave. Običajno je rdeče barve, nekatere vrste pa imajo tudi temnejše, na primer rdeče, pomešane z odtenki vijolične ali pa črne. \n",
    "Za kokoši je greben precej pomemben, saj jim pomaga regulirati telesno temperaturo - zaradi zvišane temperature v okolju se kri po kokošjem telesu pretaka hitreje in zato pogosteje doseže greben, kjer se ohladi. Prav zato imajo običajno kokoši, ki živijo v toplejšem okolju, večje grebene.\n",
    "Poleg tega je greben v kokošjem svetu tudi statusni simbol in  precej pomemben pri parjenju, saj samice intrigirajo samci z večjimi in bolj živimi grebeni.\n",
    "Tudi rejcu greben pove precej o zdravju kokoši.\n",
    "\n",
    "Več o pomenu grebena si lahko preberete na spletnih straneh [Chickens & More](https://www.chickensandmore.com/chicken-comb/), [The Happy Chicken Coop](https://www.thehappychickencoop.com/chicken-comb/) ali [Chicken Scratch](https://cs-tf.com/chicken-comb/), mi pa se bomo posvetili še oblikam grebena.\n",
    "\n",
    "Poznamo devet oblik:\n",
    "![oblike grebenov](combs.jpg)\n",
    "\n",
    "Dodajmo jim še približke slovenskih prevodov:\n",
    "- buttercup: dvojni list\n",
    "- carnation: nagelj\n",
    "- cushion: kot blazinica\n",
    "- pea: grahast\n",
    "- single: list\n",
    "- rose: v obliki rože\n",
    "- strawbery: v obliki jagode\n",
    "- v-comb: v obliki črke v\n",
    "- walnut: v obliki oreščka\n",
    "\n"
   ]
  },
  {
   "cell_type": "markdown",
   "id": "another-proposition",
   "metadata": {},
   "source": [
    "Poglejmo sedaj, kakšnih oblik so grebeni naših kokoši upoštevajoč dejstvo, da se pri posamezni vrsti lahko pojavi več različnih oblik grebena."
   ]
  },
  {
   "cell_type": "code",
   "execution_count": 13,
   "id": "acceptable-victim",
   "metadata": {},
   "outputs": [
    {
     "data": {
      "text/plain": [
       "comb\n",
       "single       51.933702\n",
       "pea          15.469613\n",
       "rose          6.077348\n",
       "v-shaped      4.419890\n",
       "walnut        3.867403\n",
       "buttercup     1.104972\n",
       "any           1.104972\n",
       "cushion       0.552486\n",
       "dtype: float64"
      ]
     },
     "execution_count": 13,
     "metadata": {},
     "output_type": "execute_result"
    },
    {
     "data": {
      "image/png": "[encoded data removed]",
      "text/plain": [
       "<Figure size 432x288 with 1 Axes>"
      ]
     },
     "metadata": {
      "needs_background": "light"
     },
     "output_type": "display_data"
    }
   ],
   "source": [
    "putke_z_grebeni = pd.merge(putke, greben, left_on='breed', right_on='breed')\n",
    "stevilo_putk = len(putke_z_grebeni)\n",
    "grebeni = putke_z_grebeni.groupby('comb').size().sort_values(ascending=False)\n",
    "grebeni.plot.bar()\n",
    "odstotki = (grebeni/stevilo_putk) * 100\n",
    "odstotki"
   ]
  },
  {
   "cell_type": "markdown",
   "id": "eastern-disaster",
   "metadata": {},
   "source": [
    "Polovica kokošjih vrst, natančneje 51,9 %, ima greben v obliki lista, torej lahko našo hipotezo potrdimo.\n",
    "Drugi najpogostejši je grahast greben, ki ga najdemo na 15,5 % vrst, sledijo pa mu grebeni v obliki rože, črke v in oreščka. Dvojni list in blazniica sta zelo redka."
   ]
  },
  {
   "cell_type": "markdown",
   "id": "integral-intake",
   "metadata": {},
   "source": [
    "### Ornamentalne kokoši"
   ]
  },
  {
   "cell_type": "markdown",
   "id": "pursuant-asbestos",
   "metadata": {},
   "source": [
    "V tem delu analize se bomo posvetili ornamentalnim kokošim in preverili, ali velja naša hipoteza s tega področja:\n",
    "> Ornamentalne kokoši ležejo manjša jajca in to počnejo redkeje."
   ]
  },
  {
   "cell_type": "code",
   "execution_count": 14,
   "id": "ordinary-promise",
   "metadata": {},
   "outputs": [],
   "source": [
    "ornamentalne = namen[namen['breed purpose'] == 'ornamental']\n",
    "neornamentalne = namen[namen['breed purpose'] != 'ornamental']\n",
    "prestete_neornamentalne = neornamentalne.groupby('breed').count()\n",
    "prestete_neornamentalne['egg size'] = putke['egg size']\n",
    "prestete_neornamentalne['egg productivity'] = putke['egg productivity']\n",
    "neornamentalne_velikost_jajc = prestete_neornamentalne.groupby('egg size').size()\n",
    "neornamentalne_produktivnost = prestete_neornamentalne.groupby('egg productivity').size()\n",
    "ornamentalne_velikost_jajc = ornamentalne.groupby('egg size').size().sort_values()\n",
    "ornamentalne_produktivnost = ornamentalne.groupby('egg productivity').size().sort_values()"
   ]
  },
  {
   "cell_type": "markdown",
   "id": "composite-divide",
   "metadata": {},
   "source": [
    "Poglejmo si najprej razlike v velikosti jajc."
   ]
  },
  {
   "cell_type": "code",
   "execution_count": 15,
   "id": "institutional-cleveland",
   "metadata": {},
   "outputs": [
    {
     "data": {
      "text/plain": [
       "47"
      ]
     },
     "execution_count": 15,
     "metadata": {},
     "output_type": "execute_result"
    }
   ],
   "source": [
    "stevilo_ornamentalnih = len(ornamentalne)\n",
    "stevilo_ornamentalnih"
   ]
  },
  {
   "cell_type": "code",
   "execution_count": 16,
   "id": "recovered-scheduling",
   "metadata": {},
   "outputs": [
    {
     "data": {
      "text/plain": [
       "egg size\n",
       "large      4.255319\n",
       "medium    40.425532\n",
       "small     55.319149\n",
       "dtype: float64"
      ]
     },
     "execution_count": 16,
     "metadata": {},
     "output_type": "execute_result"
    },
    {
     "data": {
      "image/png": "[encoded data removed]",
      "text/plain": [
       "<Figure size 432x288 with 1 Axes>"
      ]
     },
     "metadata": {
      "needs_background": "light"
     },
     "output_type": "display_data"
    }
   ],
   "source": [
    "ornamentalne_velikost_jajc.sort_values().plot.bar()\n",
    "(ornamentalne_velikost_jajc/stevilo_ornamentalnih)*100"
   ]
  },
  {
   "cell_type": "markdown",
   "id": "instructional-interaction",
   "metadata": {},
   "source": [
    "Ornamentalnih vrst je 47, od tega jih 55,3 % res leže majhna jajca, 40,4 % pa srednje velika. Velika jajca leže le 4,3 % okrasnih kokoši, kar se zaenkrat ujema z našimi pričakovanji. \n",
    "Poglejmo, ali neornamentalne kokoši ležejo večja jajca."
   ]
  },
  {
   "cell_type": "code",
   "execution_count": 17,
   "id": "alleged-power",
   "metadata": {},
   "outputs": [
    {
     "data": {
      "text/plain": [
       "133"
      ]
     },
     "execution_count": 17,
     "metadata": {},
     "output_type": "execute_result"
    }
   ],
   "source": [
    "stevilo_neornamentalnih = len(prestete_neornamentalne)\n",
    "stevilo_neornamentalnih"
   ]
  },
  {
   "cell_type": "code",
   "execution_count": 18,
   "id": "conservative-lyric",
   "metadata": {},
   "outputs": [
    {
     "data": {
      "text/plain": [
       "egg size\n",
       "large     39.849624\n",
       "medium    35.338346\n",
       "small      9.022556\n",
       "dtype: float64"
      ]
     },
     "execution_count": 18,
     "metadata": {},
     "output_type": "execute_result"
    },
    {
     "data": {
      "image/png": "[encoded data removed]",
      "text/plain": [
       "<Figure size 432x288 with 1 Axes>"
      ]
     },
     "metadata": {
      "needs_background": "light"
     },
     "output_type": "display_data"
    }
   ],
   "source": [
    "neornamentalne_velikost_jajc.sort_values().plot.bar()\n",
    "(neornamentalne_velikost_jajc/stevilo_neornamentalnih)*100"
   ]
  },
  {
   "cell_type": "markdown",
   "id": "soviet-space",
   "metadata": {},
   "source": [
    "Naša predvidevanja so bila pravilna, 39,8 % neornamentalnih kokoši leže velika jajca, 35,3% pa srednje velika.\n",
    "Majhna jajca ima le 9 %.\n",
    "Posvetimo se še produktivnosti oziroma temu, kako pogosto ležejo."
   ]
  },
  {
   "cell_type": "code",
   "execution_count": 19,
   "id": "dutch-seating",
   "metadata": {},
   "outputs": [
    {
     "data": {
      "text/plain": [
       "egg productivity\n",
       "high       2.127660\n",
       "low       40.425532\n",
       "medium    51.063830\n",
       "dtype: float64"
      ]
     },
     "execution_count": 19,
     "metadata": {},
     "output_type": "execute_result"
    },
    {
     "data": {
      "image/png": "[encoded data removed]",
      "text/plain": [
       "<Figure size 432x288 with 1 Axes>"
      ]
     },
     "metadata": {
      "needs_background": "light"
     },
     "output_type": "display_data"
    }
   ],
   "source": [
    "ornamentalne_produktivnost.sort_values().plot.bar()\n",
    "(ornamentalne_produktivnost/stevilo_ornamentalnih)*100"
   ]
  },
  {
   "cell_type": "markdown",
   "id": "premier-literacy",
   "metadata": {},
   "source": [
    "Največ, 51 % okrasnih kokoši jajca leže srednje pogosto, 40,4 % pa to počne redko. Veliko jajc izležeta le dva odstotka. Oglejmo si, kako je s tem pri neokrasnih."
   ]
  },
  {
   "cell_type": "code",
   "execution_count": 20,
   "id": "norman-newton",
   "metadata": {},
   "outputs": [
    {
     "data": {
      "text/plain": [
       "egg productivity\n",
       "high      33.834586\n",
       "low        5.263158\n",
       "medium    40.601504\n",
       "dtype: float64"
      ]
     },
     "execution_count": 20,
     "metadata": {},
     "output_type": "execute_result"
    },
    {
     "data": {
      "image/png": "[encoded data removed]",
      "text/plain": [
       "<Figure size 432x288 with 1 Axes>"
      ]
     },
     "metadata": {
      "needs_background": "light"
     },
     "output_type": "display_data"
    }
   ],
   "source": [
    "neornamentalne_produktivnost.sort_values().plot.bar()\n",
    "(neornamentalne_produktivnost/stevilo_neornamentalnih)*100"
   ]
  },
  {
   "cell_type": "markdown",
   "id": "behind-motivation",
   "metadata": {},
   "source": [
    "Tudi med neornamentalnimi kokošmi s 40,6 % odstotki prevladuje srenje pogosto valjenje, dobra tretjina, torej 33,8 % pa jih leže zelo pogosto. Redko leže le 5,3 % teh kokoši, torej lahko potrdimo našo hipotezo, da okrasne kokoši ležejo manjša jajca in to počnejo redkeje kot neornamentalne."
   ]
  },
  {
   "cell_type": "markdown",
   "id": "developmental-suspension",
   "metadata": {},
   "source": [
    "## ANALIZA ODZIVA UPORABNIKOV"
   ]
  },
  {
   "cell_type": "markdown",
   "id": "coordinated-slave",
   "metadata": {},
   "source": [
    "V tem delu se bomo posvetili odzivom uporabnikov spletne strani [BackYardChickens](https://www.backyardchickens.com/) na kokošje vrste in odgovorili na vprašanje, ali sta bili naši hipotezi pravilin:\n",
    "> Največ ogledov imajo vrste, ki jih vzrejajo predvsem zaradi jajc.\n",
    "\n",
    "> Večina najbolje ocenjenih kokoši je nesnic."
   ]
  },
  {
   "cell_type": "markdown",
   "id": "simplified-treasurer",
   "metadata": {},
   "source": [
    "### Število ogledov"
   ]
  },
  {
   "cell_type": "markdown",
   "id": "alpha-canberra",
   "metadata": {},
   "source": [
    "Za začetek ustvarimo novo tabelo, takšno, ki bo vsebovala sedaj pomembne podatke, in si oglejmo povprečja."
   ]
  },
  {
   "cell_type": "code",
   "execution_count": 21,
   "id": "aware-trainer",
   "metadata": {},
   "outputs": [
    {
     "data": {
      "text/plain": [
       "mark                      4.237738\n",
       "number of ratings        38.666667\n",
       "number of comments       48.018182\n",
       "number of reviews        38.975309\n",
       "number of views       32217.910615\n",
       "dtype: float64"
      ]
     },
     "execution_count": 21,
     "metadata": {},
     "output_type": "execute_result"
    }
   ],
   "source": [
    "uporabniki_putke = pd.read_csv('../Analiza-putk/obdelani-podatki/putke.csv', index_col='breed')\n",
    "del uporabniki_putke['link']\n",
    "uporabniki_putke.mean()"
   ]
  },
  {
   "cell_type": "markdown",
   "id": "isolated-timber",
   "metadata": {},
   "source": [
    "Ocenjevalci kokoši očitno niso preveč strogi, saj je povprečna ocena vrste 4,24, je pa res, da si relativno malo ljudi dejansko vzame čas, da vrsto oceni - glede na povprečnih 32218 ogledov je 39 ocen res precej malo. \n",
    "Hkrati pa podatek, da je povprečno število ocen (ratings) in utemeljenih ocen (reviews) skorajda enako (razlikujeta se za 0,3 odstotne točke), pove, da si večina uporabnikov, ki se odloči oceniti kokoš, vzame čas, da svojo oceno podkrepi s prednostmi in slabostmi vrste, kar nam zagotavlja, da so ocene bolj zanesljive (prihajajo od ljudi, ki imajo z vrsto res izkušnje in jo poznajo).\n",
    "Število komentarjev v povprečju presega število (utemeljenih) ocen, kar je pričakovano, saj komentarji za razliko od ocen vsebujejo tudi vprašanja, izmenjave mnenj in splošne zapise o lastnem mnenju o vrsti."
   ]
  },
  {
   "cell_type": "code",
   "execution_count": 22,
   "id": "planned-finland",
   "metadata": {},
   "outputs": [
    {
     "data": {
      "text/plain": [
       "breed\n",
       "Belgian D' Uccle          195823\n",
       "Black Sex Link Chicken    181892\n",
       "Australorp                172183\n",
       "Barred Rock               171968\n",
       "Ameraucana                170825\n",
       "                           ...  \n",
       "Mixing Chickens             1116\n",
       "Olandsk Dwarf                846\n",
       "Green Queen                  787\n",
       "Bantam Orpington             604\n",
       "Hy-line Layers               199\n",
       "Name: number of views, Length: 179, dtype: int64"
      ]
     },
     "execution_count": 22,
     "metadata": {},
     "output_type": "execute_result"
    }
   ],
   "source": [
    "uporabniki_putke.sort_values('number of views', ascending=False)['number of views']"
   ]
  },
  {
   "cell_type": "markdown",
   "id": "vertical-generator",
   "metadata": {},
   "source": [
    "Največ, kar 195823, ogledov ima vrsta Belgian D' Uccle. Poglejmo, ali so ta in ostale najbolj obiskane vrste res večinoma nesnice. Določimo za najbolj gledane tiste, ki imajo več kot 50000 ogledov."
   ]
  },
  {
   "cell_type": "code",
   "execution_count": 23,
   "id": "interstate-croatia",
   "metadata": {},
   "outputs": [
    {
     "data": {
      "text/plain": [
       "breed\n",
       "Belgian D' Uccle           195823\n",
       "Black Sex Link Chicken     181892\n",
       "Australorp                 172183\n",
       "Barred Rock                171968\n",
       "Ameraucana                 170825\n",
       "Easter Eggers              152566\n",
       "Golden Sex Link            149149\n",
       "Orpington                  142583\n",
       "Silkie                     129995\n",
       "Rhode Island Red           127255\n",
       "Wyandotte                  116764\n",
       "Welsummer                  113223\n",
       "Marans                     112711\n",
       "Red Sex Link               110319\n",
       "Brahma                      97886\n",
       "Jersey Giant                97440\n",
       "Leghorn                     89913\n",
       "Cochin                      83942\n",
       "Plymouth Rock               82998\n",
       "Sapphire Gem                81683\n",
       "Bielefelder                 76140\n",
       "Polish                      76114\n",
       "Sussex                      72981\n",
       "Delaware                    71443\n",
       "Old English Game Bantam     69467\n",
       "Araucana                    66227\n",
       "Dominique                   66205\n",
       "Serama                      65031\n",
       "Barnevelder                 59615\n",
       "Olive Egger                 57831\n",
       "Russian Orloff              56323\n",
       "Faverolles                  54086\n",
       "New Hampshire               51841\n",
       "Star                        50013\n",
       "Name: number of views, dtype: int64"
      ]
     },
     "execution_count": 23,
     "metadata": {},
     "output_type": "execute_result"
    }
   ],
   "source": [
    "najbolj_gledane = uporabniki_putke[uporabniki_putke['number of views'] >= 50000].copy()\n",
    "stevilo_najbolj_gledanih = len(najbolj_gledane)\n",
    "nameni_vrste = pd.read_csv('../Analiza-putk/obdelani-podatki/purpose.csv', index_col='breed')\n",
    "gledane_in_nameni = pd.merge(najbolj_gledane, nameni_vrste, left_on='breed', right_on='breed')\n",
    "najbolj_gledane.sort_values('number of views', ascending=False)['number of views']"
   ]
  },
  {
   "cell_type": "code",
   "execution_count": 24,
   "id": "romantic-zambia",
   "metadata": {},
   "outputs": [
    {
     "data": {
      "text/plain": [
       "34"
      ]
     },
     "execution_count": 24,
     "metadata": {},
     "output_type": "execute_result"
    }
   ],
   "source": [
    "stevilo_najbolj_gledanih"
   ]
  },
  {
   "cell_type": "code",
   "execution_count": 25,
   "id": "excessive-processor",
   "metadata": {},
   "outputs": [
    {
     "data": {
      "text/plain": [
       "breed purpose\n",
       "eggs          27\n",
       "meat          22\n",
       "ornamental     6\n",
       "dtype: int64"
      ]
     },
     "execution_count": 25,
     "metadata": {},
     "output_type": "execute_result"
    }
   ],
   "source": [
    "gledane_in_nameni.groupby('breed purpose').size()"
   ]
  },
  {
   "cell_type": "code",
   "execution_count": 26,
   "id": "equipped-black",
   "metadata": {
    "scrolled": true
   },
   "outputs": [
    {
     "data": {
      "text/plain": [
       "22"
      ]
     },
     "execution_count": 26,
     "metadata": {},
     "output_type": "execute_result"
    }
   ],
   "source": [
    "stevilo_putk_z_vec_kot_enim_namenom = len((gledane_in_nameni.groupby('breed').count())[(gledane_in_nameni.groupby('breed').count())['breed purpose'] >= 2])\n",
    "stevilo_putk_z_vec_kot_enim_namenom"
   ]
  },
  {
   "cell_type": "markdown",
   "id": "satisfied-excitement",
   "metadata": {},
   "source": [
    "Izkaže se, da so najbolj gledane vrste, ki imajo več kot en namen, res pa je, da je večina (27 od 34) nesnic, zato bomo hipotezo, da so najbolj gledane nesnice, potrdili."
   ]
  },
  {
   "cell_type": "markdown",
   "id": "caring-thursday",
   "metadata": {},
   "source": [
    "### Najboljše ocene"
   ]
  },
  {
   "cell_type": "code",
   "execution_count": 27,
   "id": "preliminary-strand",
   "metadata": {
    "scrolled": true
   },
   "outputs": [
    {
     "data": {
      "text/html": [
       "<div>\n",
       "<style scoped>\n",
       "    .dataframe tbody tr th:only-of-type {\n",
       "        vertical-align: middle;\n",
       "    }\n",
       "\n",
       "    .dataframe tbody tr th {\n",
       "        vertical-align: top;\n",
       "    }\n",
       "\n",
       "    .dataframe thead th {\n",
       "        text-align: right;\n",
       "    }\n",
       "</style>\n",
       "<table border=\"1\" class=\"dataframe\">\n",
       "  <thead>\n",
       "    <tr style=\"text-align: right;\">\n",
       "      <th></th>\n",
       "      <th>mark</th>\n",
       "      <th>number of ratings</th>\n",
       "      <th>number of comments</th>\n",
       "      <th>number of reviews</th>\n",
       "      <th>number of views</th>\n",
       "      <th>broodiness</th>\n",
       "      <th>climate tolerance</th>\n",
       "      <th>egg productivity</th>\n",
       "      <th>egg size</th>\n",
       "      <th>breed size</th>\n",
       "    </tr>\n",
       "    <tr>\n",
       "      <th>breed</th>\n",
       "      <th></th>\n",
       "      <th></th>\n",
       "      <th></th>\n",
       "      <th></th>\n",
       "      <th></th>\n",
       "      <th></th>\n",
       "      <th></th>\n",
       "      <th></th>\n",
       "      <th></th>\n",
       "      <th></th>\n",
       "    </tr>\n",
       "  </thead>\n",
       "  <tbody>\n",
       "    <tr>\n",
       "      <th>Gallo Kelso</th>\n",
       "      <td>5.00</td>\n",
       "      <td>2.0</td>\n",
       "      <td>8.0</td>\n",
       "      <td>2.0</td>\n",
       "      <td>22806</td>\n",
       "      <td>frequent</td>\n",
       "      <td>any</td>\n",
       "      <td>medium</td>\n",
       "      <td>medium</td>\n",
       "      <td>large</td>\n",
       "    </tr>\n",
       "    <tr>\n",
       "      <th>Columbian Blacktails</th>\n",
       "      <td>5.00</td>\n",
       "      <td>1.0</td>\n",
       "      <td>2.0</td>\n",
       "      <td>1.0</td>\n",
       "      <td>6372</td>\n",
       "      <td>average</td>\n",
       "      <td>any</td>\n",
       "      <td>high</td>\n",
       "      <td>medium</td>\n",
       "      <td>large</td>\n",
       "    </tr>\n",
       "    <tr>\n",
       "      <th>Russian Crested</th>\n",
       "      <td>5.00</td>\n",
       "      <td>2.0</td>\n",
       "      <td>7.0</td>\n",
       "      <td>1.0</td>\n",
       "      <td>5299</td>\n",
       "      <td>NaN</td>\n",
       "      <td>any</td>\n",
       "      <td>medium</td>\n",
       "      <td>large</td>\n",
       "      <td>large</td>\n",
       "    </tr>\n",
       "    <tr>\n",
       "      <th>Pita Pinta</th>\n",
       "      <td>5.00</td>\n",
       "      <td>1.0</td>\n",
       "      <td>4.0</td>\n",
       "      <td>NaN</td>\n",
       "      <td>5717</td>\n",
       "      <td>NaN</td>\n",
       "      <td>warmer better</td>\n",
       "      <td>NaN</td>\n",
       "      <td>NaN</td>\n",
       "      <td>medium</td>\n",
       "    </tr>\n",
       "    <tr>\n",
       "      <th>Smaaland</th>\n",
       "      <td>5.00</td>\n",
       "      <td>1.0</td>\n",
       "      <td>1.0</td>\n",
       "      <td>NaN</td>\n",
       "      <td>5728</td>\n",
       "      <td>frequent</td>\n",
       "      <td>colder better</td>\n",
       "      <td>high</td>\n",
       "      <td>medium</td>\n",
       "      <td>medium</td>\n",
       "    </tr>\n",
       "    <tr>\n",
       "      <th>KraienkÃ¶ppe</th>\n",
       "      <td>5.00</td>\n",
       "      <td>3.0</td>\n",
       "      <td>1.0</td>\n",
       "      <td>2.0</td>\n",
       "      <td>9315</td>\n",
       "      <td>average</td>\n",
       "      <td>any</td>\n",
       "      <td>high</td>\n",
       "      <td>large</td>\n",
       "      <td>large</td>\n",
       "    </tr>\n",
       "    <tr>\n",
       "      <th>Gallo Giro</th>\n",
       "      <td>5.00</td>\n",
       "      <td>1.0</td>\n",
       "      <td>1.0</td>\n",
       "      <td>1.0</td>\n",
       "      <td>8029</td>\n",
       "      <td>frequent</td>\n",
       "      <td>any</td>\n",
       "      <td>medium</td>\n",
       "      <td>medium</td>\n",
       "      <td>large</td>\n",
       "    </tr>\n",
       "    <tr>\n",
       "      <th>East Frisian Gull - An Old World Landrace</th>\n",
       "      <td>5.00</td>\n",
       "      <td>3.0</td>\n",
       "      <td>4.0</td>\n",
       "      <td>2.0</td>\n",
       "      <td>7758</td>\n",
       "      <td>NaN</td>\n",
       "      <td>NaN</td>\n",
       "      <td>NaN</td>\n",
       "      <td>NaN</td>\n",
       "      <td>NaN</td>\n",
       "    </tr>\n",
       "    <tr>\n",
       "      <th>Cuckoo Maran</th>\n",
       "      <td>5.00</td>\n",
       "      <td>1.0</td>\n",
       "      <td>1.0</td>\n",
       "      <td>NaN</td>\n",
       "      <td>2553</td>\n",
       "      <td>average</td>\n",
       "      <td>colder better</td>\n",
       "      <td>medium</td>\n",
       "      <td>large</td>\n",
       "      <td>large</td>\n",
       "    </tr>\n",
       "    <tr>\n",
       "      <th>Sapphire Gem</th>\n",
       "      <td>5.00</td>\n",
       "      <td>2.0</td>\n",
       "      <td>14.0</td>\n",
       "      <td>2.0</td>\n",
       "      <td>81683</td>\n",
       "      <td>NaN</td>\n",
       "      <td>warmer better</td>\n",
       "      <td>high</td>\n",
       "      <td>large</td>\n",
       "      <td>NaN</td>\n",
       "    </tr>\n",
       "    <tr>\n",
       "      <th>Barnyard Mix</th>\n",
       "      <td>5.00</td>\n",
       "      <td>1.0</td>\n",
       "      <td>2.0</td>\n",
       "      <td>1.0</td>\n",
       "      <td>1561</td>\n",
       "      <td>rare</td>\n",
       "      <td>any</td>\n",
       "      <td>NaN</td>\n",
       "      <td>NaN</td>\n",
       "      <td>medium</td>\n",
       "    </tr>\n",
       "    <tr>\n",
       "      <th>Bantam Barred Rock</th>\n",
       "      <td>5.00</td>\n",
       "      <td>2.0</td>\n",
       "      <td>2.0</td>\n",
       "      <td>1.0</td>\n",
       "      <td>8200</td>\n",
       "      <td>NaN</td>\n",
       "      <td>NaN</td>\n",
       "      <td>NaN</td>\n",
       "      <td>NaN</td>\n",
       "      <td>NaN</td>\n",
       "    </tr>\n",
       "    <tr>\n",
       "      <th>Nankin Bantams</th>\n",
       "      <td>4.94</td>\n",
       "      <td>16.0</td>\n",
       "      <td>13.0</td>\n",
       "      <td>15.0</td>\n",
       "      <td>13164</td>\n",
       "      <td>frequent</td>\n",
       "      <td>any</td>\n",
       "      <td>medium</td>\n",
       "      <td>small</td>\n",
       "      <td>small</td>\n",
       "    </tr>\n",
       "    <tr>\n",
       "      <th>Transylvanian Naked Neck</th>\n",
       "      <td>4.88</td>\n",
       "      <td>8.0</td>\n",
       "      <td>20.0</td>\n",
       "      <td>8.0</td>\n",
       "      <td>6734</td>\n",
       "      <td>NaN</td>\n",
       "      <td>NaN</td>\n",
       "      <td>NaN</td>\n",
       "      <td>NaN</td>\n",
       "      <td>NaN</td>\n",
       "    </tr>\n",
       "    <tr>\n",
       "      <th>Booted</th>\n",
       "      <td>4.82</td>\n",
       "      <td>11.0</td>\n",
       "      <td>9.0</td>\n",
       "      <td>10.0</td>\n",
       "      <td>7369</td>\n",
       "      <td>frequent</td>\n",
       "      <td>warmer better</td>\n",
       "      <td>medium</td>\n",
       "      <td>small</td>\n",
       "      <td>small</td>\n",
       "    </tr>\n",
       "    <tr>\n",
       "      <th>Blue Isbar</th>\n",
       "      <td>4.80</td>\n",
       "      <td>5.0</td>\n",
       "      <td>19.0</td>\n",
       "      <td>5.0</td>\n",
       "      <td>18400</td>\n",
       "      <td>NaN</td>\n",
       "      <td>NaN</td>\n",
       "      <td>NaN</td>\n",
       "      <td>NaN</td>\n",
       "      <td>NaN</td>\n",
       "    </tr>\n",
       "    <tr>\n",
       "      <th>Mottled Cochin</th>\n",
       "      <td>4.80</td>\n",
       "      <td>5.0</td>\n",
       "      <td>1.0</td>\n",
       "      <td>4.0</td>\n",
       "      <td>9921</td>\n",
       "      <td>NaN</td>\n",
       "      <td>any</td>\n",
       "      <td>medium</td>\n",
       "      <td>small</td>\n",
       "      <td>small</td>\n",
       "    </tr>\n",
       "    <tr>\n",
       "      <th>Russian Orloff</th>\n",
       "      <td>4.75</td>\n",
       "      <td>16.0</td>\n",
       "      <td>18.0</td>\n",
       "      <td>15.0</td>\n",
       "      <td>56323</td>\n",
       "      <td>average</td>\n",
       "      <td>any</td>\n",
       "      <td>medium</td>\n",
       "      <td>medium</td>\n",
       "      <td>large</td>\n",
       "    </tr>\n",
       "    <tr>\n",
       "      <th>Pyncheon</th>\n",
       "      <td>4.75</td>\n",
       "      <td>4.0</td>\n",
       "      <td>7.0</td>\n",
       "      <td>4.0</td>\n",
       "      <td>8404</td>\n",
       "      <td>average</td>\n",
       "      <td>any</td>\n",
       "      <td>low</td>\n",
       "      <td>small</td>\n",
       "      <td>small</td>\n",
       "    </tr>\n",
       "    <tr>\n",
       "      <th>Pavlovskaja</th>\n",
       "      <td>4.75</td>\n",
       "      <td>4.0</td>\n",
       "      <td>7.0</td>\n",
       "      <td>4.0</td>\n",
       "      <td>7482</td>\n",
       "      <td>NaN</td>\n",
       "      <td>colder better</td>\n",
       "      <td>medium</td>\n",
       "      <td>medium</td>\n",
       "      <td>large</td>\n",
       "    </tr>\n",
       "    <tr>\n",
       "      <th>Aloha Chickens</th>\n",
       "      <td>4.75</td>\n",
       "      <td>4.0</td>\n",
       "      <td>11.0</td>\n",
       "      <td>4.0</td>\n",
       "      <td>16334</td>\n",
       "      <td>average</td>\n",
       "      <td>warmer better</td>\n",
       "      <td>high</td>\n",
       "      <td>small</td>\n",
       "      <td>large</td>\n",
       "    </tr>\n",
       "    <tr>\n",
       "      <th>Modern Game</th>\n",
       "      <td>4.72</td>\n",
       "      <td>18.0</td>\n",
       "      <td>24.0</td>\n",
       "      <td>17.0</td>\n",
       "      <td>18315</td>\n",
       "      <td>frequent</td>\n",
       "      <td>warmer better</td>\n",
       "      <td>low</td>\n",
       "      <td>small</td>\n",
       "      <td>small</td>\n",
       "    </tr>\n",
       "    <tr>\n",
       "      <th>Showgirl</th>\n",
       "      <td>4.72</td>\n",
       "      <td>18.0</td>\n",
       "      <td>23.0</td>\n",
       "      <td>18.0</td>\n",
       "      <td>34881</td>\n",
       "      <td>frequent</td>\n",
       "      <td>any</td>\n",
       "      <td>medium</td>\n",
       "      <td>small</td>\n",
       "      <td>small</td>\n",
       "    </tr>\n",
       "    <tr>\n",
       "      <th>Belgian D' Anver</th>\n",
       "      <td>4.69</td>\n",
       "      <td>26.0</td>\n",
       "      <td>12.0</td>\n",
       "      <td>25.0</td>\n",
       "      <td>28687</td>\n",
       "      <td>frequent</td>\n",
       "      <td>any</td>\n",
       "      <td>medium</td>\n",
       "      <td>small</td>\n",
       "      <td>small</td>\n",
       "    </tr>\n",
       "    <tr>\n",
       "      <th>Rhode Island White</th>\n",
       "      <td>4.67</td>\n",
       "      <td>6.0</td>\n",
       "      <td>8.0</td>\n",
       "      <td>6.0</td>\n",
       "      <td>27694</td>\n",
       "      <td>average</td>\n",
       "      <td>colder better</td>\n",
       "      <td>high</td>\n",
       "      <td>large</td>\n",
       "      <td>large</td>\n",
       "    </tr>\n",
       "    <tr>\n",
       "      <th>British Tailed Araucana</th>\n",
       "      <td>4.67</td>\n",
       "      <td>3.0</td>\n",
       "      <td>9.0</td>\n",
       "      <td>2.0</td>\n",
       "      <td>9512</td>\n",
       "      <td>average</td>\n",
       "      <td>any</td>\n",
       "      <td>medium</td>\n",
       "      <td>medium</td>\n",
       "      <td>large</td>\n",
       "    </tr>\n",
       "    <tr>\n",
       "      <th>Rosecomb</th>\n",
       "      <td>4.67</td>\n",
       "      <td>12.0</td>\n",
       "      <td>7.0</td>\n",
       "      <td>12.0</td>\n",
       "      <td>10240</td>\n",
       "      <td>frequent</td>\n",
       "      <td>any</td>\n",
       "      <td>low</td>\n",
       "      <td>small</td>\n",
       "      <td>small</td>\n",
       "    </tr>\n",
       "    <tr>\n",
       "      <th>Crevecoeur</th>\n",
       "      <td>4.67</td>\n",
       "      <td>15.0</td>\n",
       "      <td>22.0</td>\n",
       "      <td>15.0</td>\n",
       "      <td>20782</td>\n",
       "      <td>rare</td>\n",
       "      <td>any</td>\n",
       "      <td>low</td>\n",
       "      <td>medium</td>\n",
       "      <td>large</td>\n",
       "    </tr>\n",
       "    <tr>\n",
       "      <th>Belgian D' Uccle</th>\n",
       "      <td>4.66</td>\n",
       "      <td>80.0</td>\n",
       "      <td>53.0</td>\n",
       "      <td>77.0</td>\n",
       "      <td>195823</td>\n",
       "      <td>average</td>\n",
       "      <td>any</td>\n",
       "      <td>medium</td>\n",
       "      <td>small</td>\n",
       "      <td>small</td>\n",
       "    </tr>\n",
       "    <tr>\n",
       "      <th>Cubalaya</th>\n",
       "      <td>4.64</td>\n",
       "      <td>11.0</td>\n",
       "      <td>5.0</td>\n",
       "      <td>11.0</td>\n",
       "      <td>15474</td>\n",
       "      <td>average</td>\n",
       "      <td>any</td>\n",
       "      <td>medium</td>\n",
       "      <td>medium</td>\n",
       "      <td>large</td>\n",
       "    </tr>\n",
       "    <tr>\n",
       "      <th>Icelandic Or Viking Hen</th>\n",
       "      <td>4.63</td>\n",
       "      <td>16.0</td>\n",
       "      <td>20.0</td>\n",
       "      <td>16.0</td>\n",
       "      <td>23995</td>\n",
       "      <td>average</td>\n",
       "      <td>any</td>\n",
       "      <td>medium</td>\n",
       "      <td>medium</td>\n",
       "      <td>large</td>\n",
       "    </tr>\n",
       "    <tr>\n",
       "      <th>Serama</th>\n",
       "      <td>4.62</td>\n",
       "      <td>47.0</td>\n",
       "      <td>60.0</td>\n",
       "      <td>47.0</td>\n",
       "      <td>65031</td>\n",
       "      <td>frequent</td>\n",
       "      <td>warmer better</td>\n",
       "      <td>low</td>\n",
       "      <td>small</td>\n",
       "      <td>small</td>\n",
       "    </tr>\n",
       "    <tr>\n",
       "      <th>Cornish Bantams</th>\n",
       "      <td>4.60</td>\n",
       "      <td>5.0</td>\n",
       "      <td>6.0</td>\n",
       "      <td>5.0</td>\n",
       "      <td>14879</td>\n",
       "      <td>average</td>\n",
       "      <td>any</td>\n",
       "      <td>low</td>\n",
       "      <td>small</td>\n",
       "      <td>small</td>\n",
       "    </tr>\n",
       "    <tr>\n",
       "      <th>Bantam Partridge Wyandotte</th>\n",
       "      <td>4.60</td>\n",
       "      <td>5.0</td>\n",
       "      <td>6.0</td>\n",
       "      <td>4.0</td>\n",
       "      <td>10922</td>\n",
       "      <td>average</td>\n",
       "      <td>any</td>\n",
       "      <td>medium</td>\n",
       "      <td>small</td>\n",
       "      <td>small</td>\n",
       "    </tr>\n",
       "    <tr>\n",
       "      <th>Rhodebar</th>\n",
       "      <td>4.60</td>\n",
       "      <td>5.0</td>\n",
       "      <td>10.0</td>\n",
       "      <td>5.0</td>\n",
       "      <td>8811</td>\n",
       "      <td>average</td>\n",
       "      <td>any</td>\n",
       "      <td>high</td>\n",
       "      <td>large</td>\n",
       "      <td>large</td>\n",
       "    </tr>\n",
       "    <tr>\n",
       "      <th>Ayam Cemani</th>\n",
       "      <td>4.60</td>\n",
       "      <td>10.0</td>\n",
       "      <td>19.0</td>\n",
       "      <td>9.0</td>\n",
       "      <td>19001</td>\n",
       "      <td>poor</td>\n",
       "      <td>any</td>\n",
       "      <td>NaN</td>\n",
       "      <td>medium</td>\n",
       "      <td>large</td>\n",
       "    </tr>\n",
       "    <tr>\n",
       "      <th>Dutch</th>\n",
       "      <td>4.59</td>\n",
       "      <td>17.0</td>\n",
       "      <td>12.0</td>\n",
       "      <td>15.0</td>\n",
       "      <td>10549</td>\n",
       "      <td>frequent</td>\n",
       "      <td>any</td>\n",
       "      <td>medium</td>\n",
       "      <td>small</td>\n",
       "      <td>small</td>\n",
       "    </tr>\n",
       "    <tr>\n",
       "      <th>Amber Whites</th>\n",
       "      <td>4.57</td>\n",
       "      <td>7.0</td>\n",
       "      <td>7.0</td>\n",
       "      <td>7.0</td>\n",
       "      <td>18679</td>\n",
       "      <td>rare</td>\n",
       "      <td>any</td>\n",
       "      <td>high</td>\n",
       "      <td>large</td>\n",
       "      <td>large</td>\n",
       "    </tr>\n",
       "    <tr>\n",
       "      <th>Naked Neck-turken</th>\n",
       "      <td>4.56</td>\n",
       "      <td>48.0</td>\n",
       "      <td>48.0</td>\n",
       "      <td>46.0</td>\n",
       "      <td>43419</td>\n",
       "      <td>average</td>\n",
       "      <td>any</td>\n",
       "      <td>low</td>\n",
       "      <td>large</td>\n",
       "      <td>large</td>\n",
       "    </tr>\n",
       "    <tr>\n",
       "      <th>Vorwerk</th>\n",
       "      <td>4.56</td>\n",
       "      <td>9.0</td>\n",
       "      <td>11.0</td>\n",
       "      <td>7.0</td>\n",
       "      <td>18006</td>\n",
       "      <td>rare</td>\n",
       "      <td>any</td>\n",
       "      <td>medium</td>\n",
       "      <td>medium</td>\n",
       "      <td>small</td>\n",
       "    </tr>\n",
       "    <tr>\n",
       "      <th>Salmon Favorelle</th>\n",
       "      <td>4.56</td>\n",
       "      <td>16.0</td>\n",
       "      <td>22.0</td>\n",
       "      <td>14.0</td>\n",
       "      <td>17700</td>\n",
       "      <td>average</td>\n",
       "      <td>any</td>\n",
       "      <td>medium</td>\n",
       "      <td>medium</td>\n",
       "      <td>large</td>\n",
       "    </tr>\n",
       "    <tr>\n",
       "      <th>Svart Hona</th>\n",
       "      <td>4.56</td>\n",
       "      <td>9.0</td>\n",
       "      <td>17.0</td>\n",
       "      <td>9.0</td>\n",
       "      <td>27584</td>\n",
       "      <td>NaN</td>\n",
       "      <td>NaN</td>\n",
       "      <td>high</td>\n",
       "      <td>large</td>\n",
       "      <td>medium</td>\n",
       "    </tr>\n",
       "    <tr>\n",
       "      <th>Minorca</th>\n",
       "      <td>4.55</td>\n",
       "      <td>11.0</td>\n",
       "      <td>10.0</td>\n",
       "      <td>10.0</td>\n",
       "      <td>25089</td>\n",
       "      <td>rare</td>\n",
       "      <td>warmer better</td>\n",
       "      <td>high</td>\n",
       "      <td>large</td>\n",
       "      <td>large</td>\n",
       "    </tr>\n",
       "    <tr>\n",
       "      <th>Sussex</th>\n",
       "      <td>4.53</td>\n",
       "      <td>100.0</td>\n",
       "      <td>126.0</td>\n",
       "      <td>99.0</td>\n",
       "      <td>72981</td>\n",
       "      <td>frequent</td>\n",
       "      <td>any</td>\n",
       "      <td>high</td>\n",
       "      <td>large</td>\n",
       "      <td>large</td>\n",
       "    </tr>\n",
       "    <tr>\n",
       "      <th>Legbar</th>\n",
       "      <td>4.52</td>\n",
       "      <td>25.0</td>\n",
       "      <td>62.0</td>\n",
       "      <td>25.0</td>\n",
       "      <td>30948</td>\n",
       "      <td>rare</td>\n",
       "      <td>NaN</td>\n",
       "      <td>medium</td>\n",
       "      <td>medium</td>\n",
       "      <td>large</td>\n",
       "    </tr>\n",
       "    <tr>\n",
       "      <th>Langshan</th>\n",
       "      <td>4.52</td>\n",
       "      <td>21.0</td>\n",
       "      <td>11.0</td>\n",
       "      <td>21.0</td>\n",
       "      <td>34648</td>\n",
       "      <td>frequent</td>\n",
       "      <td>any</td>\n",
       "      <td>medium</td>\n",
       "      <td>large</td>\n",
       "      <td>large</td>\n",
       "    </tr>\n",
       "    <tr>\n",
       "      <th>Red-breasted Rosecomb Bantam</th>\n",
       "      <td>4.50</td>\n",
       "      <td>2.0</td>\n",
       "      <td>5.0</td>\n",
       "      <td>2.0</td>\n",
       "      <td>3833</td>\n",
       "      <td>rare</td>\n",
       "      <td>any</td>\n",
       "      <td>medium</td>\n",
       "      <td>small</td>\n",
       "      <td>small</td>\n",
       "    </tr>\n",
       "    <tr>\n",
       "      <th>Sulmtaler</th>\n",
       "      <td>4.50</td>\n",
       "      <td>6.0</td>\n",
       "      <td>3.0</td>\n",
       "      <td>5.0</td>\n",
       "      <td>11930</td>\n",
       "      <td>frequent</td>\n",
       "      <td>any</td>\n",
       "      <td>medium</td>\n",
       "      <td>large</td>\n",
       "      <td>large</td>\n",
       "    </tr>\n",
       "    <tr>\n",
       "      <th>Sultan</th>\n",
       "      <td>4.50</td>\n",
       "      <td>18.0</td>\n",
       "      <td>26.0</td>\n",
       "      <td>17.0</td>\n",
       "      <td>24544</td>\n",
       "      <td>rare</td>\n",
       "      <td>warmer better</td>\n",
       "      <td>low</td>\n",
       "      <td>small</td>\n",
       "      <td>large</td>\n",
       "    </tr>\n",
       "    <tr>\n",
       "      <th>Golden Comet</th>\n",
       "      <td>4.50</td>\n",
       "      <td>4.0</td>\n",
       "      <td>7.0</td>\n",
       "      <td>3.0</td>\n",
       "      <td>10099</td>\n",
       "      <td>rare</td>\n",
       "      <td>warmer better</td>\n",
       "      <td>NaN</td>\n",
       "      <td>large</td>\n",
       "      <td>large</td>\n",
       "    </tr>\n",
       "    <tr>\n",
       "      <th>Euskal Oiloa - Marraduna Basque</th>\n",
       "      <td>4.50</td>\n",
       "      <td>10.0</td>\n",
       "      <td>22.0</td>\n",
       "      <td>10.0</td>\n",
       "      <td>18194</td>\n",
       "      <td>NaN</td>\n",
       "      <td>NaN</td>\n",
       "      <td>NaN</td>\n",
       "      <td>NaN</td>\n",
       "      <td>NaN</td>\n",
       "    </tr>\n",
       "    <tr>\n",
       "      <th>Easter Egger Bantam</th>\n",
       "      <td>4.50</td>\n",
       "      <td>4.0</td>\n",
       "      <td>3.0</td>\n",
       "      <td>4.0</td>\n",
       "      <td>14084</td>\n",
       "      <td>rare</td>\n",
       "      <td>colder better</td>\n",
       "      <td>medium</td>\n",
       "      <td>small</td>\n",
       "      <td>small</td>\n",
       "    </tr>\n",
       "    <tr>\n",
       "      <th>Arau-ameraucana</th>\n",
       "      <td>4.50</td>\n",
       "      <td>2.0</td>\n",
       "      <td>2.0</td>\n",
       "      <td>1.0</td>\n",
       "      <td>3946</td>\n",
       "      <td>average</td>\n",
       "      <td>any</td>\n",
       "      <td>medium</td>\n",
       "      <td>medium</td>\n",
       "      <td>large</td>\n",
       "    </tr>\n",
       "    <tr>\n",
       "      <th>Welbar</th>\n",
       "      <td>4.50</td>\n",
       "      <td>2.0</td>\n",
       "      <td>8.0</td>\n",
       "      <td>2.0</td>\n",
       "      <td>15635</td>\n",
       "      <td>NaN</td>\n",
       "      <td>NaN</td>\n",
       "      <td>high</td>\n",
       "      <td>large</td>\n",
       "      <td>large</td>\n",
       "    </tr>\n",
       "    <tr>\n",
       "      <th>Whiting True Blue</th>\n",
       "      <td>4.50</td>\n",
       "      <td>2.0</td>\n",
       "      <td>6.0</td>\n",
       "      <td>1.0</td>\n",
       "      <td>17384</td>\n",
       "      <td>poor</td>\n",
       "      <td>colder better</td>\n",
       "      <td>high</td>\n",
       "      <td>large</td>\n",
       "      <td>NaN</td>\n",
       "    </tr>\n",
       "  </tbody>\n",
       "</table>\n",
       "</div>"
      ],
      "text/plain": [
       "                                           mark  number of ratings  \\\n",
       "breed                                                                \n",
       "Gallo Kelso                                5.00                2.0   \n",
       "Columbian Blacktails                       5.00                1.0   \n",
       "Russian Crested                            5.00                2.0   \n",
       "Pita Pinta                                 5.00                1.0   \n",
       "Smaaland                                   5.00                1.0   \n",
       "KraienkÃ¶ppe                               5.00                3.0   \n",
       "Gallo Giro                                 5.00                1.0   \n",
       "East Frisian Gull - An Old World Landrace  5.00                3.0   \n",
       "Cuckoo Maran                               5.00                1.0   \n",
       "Sapphire Gem                               5.00                2.0   \n",
       "Barnyard Mix                               5.00                1.0   \n",
       "Bantam Barred Rock                         5.00                2.0   \n",
       "Nankin Bantams                             4.94               16.0   \n",
       "Transylvanian Naked Neck                   4.88                8.0   \n",
       "Booted                                     4.82               11.0   \n",
       "Blue Isbar                                 4.80                5.0   \n",
       "Mottled Cochin                             4.80                5.0   \n",
       "Russian Orloff                             4.75               16.0   \n",
       "Pyncheon                                   4.75                4.0   \n",
       "Pavlovskaja                                4.75                4.0   \n",
       "Aloha Chickens                             4.75                4.0   \n",
       "Modern Game                                4.72               18.0   \n",
       "Showgirl                                   4.72               18.0   \n",
       "Belgian D' Anver                           4.69               26.0   \n",
       "Rhode Island White                         4.67                6.0   \n",
       "British Tailed Araucana                    4.67                3.0   \n",
       "Rosecomb                                   4.67               12.0   \n",
       "Crevecoeur                                 4.67               15.0   \n",
       "Belgian D' Uccle                           4.66               80.0   \n",
       "Cubalaya                                   4.64               11.0   \n",
       "Icelandic Or Viking Hen                    4.63               16.0   \n",
       "Serama                                     4.62               47.0   \n",
       "Cornish Bantams                            4.60                5.0   \n",
       "Bantam Partridge Wyandotte                 4.60                5.0   \n",
       "Rhodebar                                   4.60                5.0   \n",
       "Ayam Cemani                                4.60               10.0   \n",
       "Dutch                                      4.59               17.0   \n",
       "Amber Whites                               4.57                7.0   \n",
       "Naked Neck-turken                          4.56               48.0   \n",
       "Vorwerk                                    4.56                9.0   \n",
       "Salmon Favorelle                           4.56               16.0   \n",
       "Svart Hona                                 4.56                9.0   \n",
       "Minorca                                    4.55               11.0   \n",
       "Sussex                                     4.53              100.0   \n",
       "Legbar                                     4.52               25.0   \n",
       "Langshan                                   4.52               21.0   \n",
       "Red-breasted Rosecomb Bantam               4.50                2.0   \n",
       "Sulmtaler                                  4.50                6.0   \n",
       "Sultan                                     4.50               18.0   \n",
       "Golden Comet                               4.50                4.0   \n",
       "Euskal Oiloa - Marraduna Basque            4.50               10.0   \n",
       "Easter Egger Bantam                        4.50                4.0   \n",
       "Arau-ameraucana                            4.50                2.0   \n",
       "Welbar                                     4.50                2.0   \n",
       "Whiting True Blue                          4.50                2.0   \n",
       "\n",
       "                                           number of comments  \\\n",
       "breed                                                           \n",
       "Gallo Kelso                                               8.0   \n",
       "Columbian Blacktails                                      2.0   \n",
       "Russian Crested                                           7.0   \n",
       "Pita Pinta                                                4.0   \n",
       "Smaaland                                                  1.0   \n",
       "KraienkÃ¶ppe                                              1.0   \n",
       "Gallo Giro                                                1.0   \n",
       "East Frisian Gull - An Old World Landrace                 4.0   \n",
       "Cuckoo Maran                                              1.0   \n",
       "Sapphire Gem                                             14.0   \n",
       "Barnyard Mix                                              2.0   \n",
       "Bantam Barred Rock                                        2.0   \n",
       "Nankin Bantams                                           13.0   \n",
       "Transylvanian Naked Neck                                 20.0   \n",
       "Booted                                                    9.0   \n",
       "Blue Isbar                                               19.0   \n",
       "Mottled Cochin                                            1.0   \n",
       "Russian Orloff                                           18.0   \n",
       "Pyncheon                                                  7.0   \n",
       "Pavlovskaja                                               7.0   \n",
       "Aloha Chickens                                           11.0   \n",
       "Modern Game                                              24.0   \n",
       "Showgirl                                                 23.0   \n",
       "Belgian D' Anver                                         12.0   \n",
       "Rhode Island White                                        8.0   \n",
       "British Tailed Araucana                                   9.0   \n",
       "Rosecomb                                                  7.0   \n",
       "Crevecoeur                                               22.0   \n",
       "Belgian D' Uccle                                         53.0   \n",
       "Cubalaya                                                  5.0   \n",
       "Icelandic Or Viking Hen                                  20.0   \n",
       "Serama                                                   60.0   \n",
       "Cornish Bantams                                           6.0   \n",
       "Bantam Partridge Wyandotte                                6.0   \n",
       "Rhodebar                                                 10.0   \n",
       "Ayam Cemani                                              19.0   \n",
       "Dutch                                                    12.0   \n",
       "Amber Whites                                              7.0   \n",
       "Naked Neck-turken                                        48.0   \n",
       "Vorwerk                                                  11.0   \n",
       "Salmon Favorelle                                         22.0   \n",
       "Svart Hona                                               17.0   \n",
       "Minorca                                                  10.0   \n",
       "Sussex                                                  126.0   \n",
       "Legbar                                                   62.0   \n",
       "Langshan                                                 11.0   \n",
       "Red-breasted Rosecomb Bantam                              5.0   \n",
       "Sulmtaler                                                 3.0   \n",
       "Sultan                                                   26.0   \n",
       "Golden Comet                                              7.0   \n",
       "Euskal Oiloa - Marraduna Basque                          22.0   \n",
       "Easter Egger Bantam                                       3.0   \n",
       "Arau-ameraucana                                           2.0   \n",
       "Welbar                                                    8.0   \n",
       "Whiting True Blue                                         6.0   \n",
       "\n",
       "                                           number of reviews  number of views  \\\n",
       "breed                                                                           \n",
       "Gallo Kelso                                              2.0            22806   \n",
       "Columbian Blacktails                                     1.0             6372   \n",
       "Russian Crested                                          1.0             5299   \n",
       "Pita Pinta                                               NaN             5717   \n",
       "Smaaland                                                 NaN             5728   \n",
       "KraienkÃ¶ppe                                             2.0             9315   \n",
       "Gallo Giro                                               1.0             8029   \n",
       "East Frisian Gull - An Old World Landrace                2.0             7758   \n",
       "Cuckoo Maran                                             NaN             2553   \n",
       "Sapphire Gem                                             2.0            81683   \n",
       "Barnyard Mix                                             1.0             1561   \n",
       "Bantam Barred Rock                                       1.0             8200   \n",
       "Nankin Bantams                                          15.0            13164   \n",
       "Transylvanian Naked Neck                                 8.0             6734   \n",
       "Booted                                                  10.0             7369   \n",
       "Blue Isbar                                               5.0            18400   \n",
       "Mottled Cochin                                           4.0             9921   \n",
       "Russian Orloff                                          15.0            56323   \n",
       "Pyncheon                                                 4.0             8404   \n",
       "Pavlovskaja                                              4.0             7482   \n",
       "Aloha Chickens                                           4.0            16334   \n",
       "Modern Game                                             17.0            18315   \n",
       "Showgirl                                                18.0            34881   \n",
       "Belgian D' Anver                                        25.0            28687   \n",
       "Rhode Island White                                       6.0            27694   \n",
       "British Tailed Araucana                                  2.0             9512   \n",
       "Rosecomb                                                12.0            10240   \n",
       "Crevecoeur                                              15.0            20782   \n",
       "Belgian D' Uccle                                        77.0           195823   \n",
       "Cubalaya                                                11.0            15474   \n",
       "Icelandic Or Viking Hen                                 16.0            23995   \n",
       "Serama                                                  47.0            65031   \n",
       "Cornish Bantams                                          5.0            14879   \n",
       "Bantam Partridge Wyandotte                               4.0            10922   \n",
       "Rhodebar                                                 5.0             8811   \n",
       "Ayam Cemani                                              9.0            19001   \n",
       "Dutch                                                   15.0            10549   \n",
       "Amber Whites                                             7.0            18679   \n",
       "Naked Neck-turken                                       46.0            43419   \n",
       "Vorwerk                                                  7.0            18006   \n",
       "Salmon Favorelle                                        14.0            17700   \n",
       "Svart Hona                                               9.0            27584   \n",
       "Minorca                                                 10.0            25089   \n",
       "Sussex                                                  99.0            72981   \n",
       "Legbar                                                  25.0            30948   \n",
       "Langshan                                                21.0            34648   \n",
       "Red-breasted Rosecomb Bantam                             2.0             3833   \n",
       "Sulmtaler                                                5.0            11930   \n",
       "Sultan                                                  17.0            24544   \n",
       "Golden Comet                                             3.0            10099   \n",
       "Euskal Oiloa - Marraduna Basque                         10.0            18194   \n",
       "Easter Egger Bantam                                      4.0            14084   \n",
       "Arau-ameraucana                                          1.0             3946   \n",
       "Welbar                                                   2.0            15635   \n",
       "Whiting True Blue                                        1.0            17384   \n",
       "\n",
       "                                          broodiness climate tolerance  \\\n",
       "breed                                                                    \n",
       "Gallo Kelso                                 frequent               any   \n",
       "Columbian Blacktails                         average               any   \n",
       "Russian Crested                                  NaN               any   \n",
       "Pita Pinta                                       NaN     warmer better   \n",
       "Smaaland                                    frequent     colder better   \n",
       "KraienkÃ¶ppe                                 average               any   \n",
       "Gallo Giro                                  frequent               any   \n",
       "East Frisian Gull - An Old World Landrace        NaN               NaN   \n",
       "Cuckoo Maran                                 average     colder better   \n",
       "Sapphire Gem                                     NaN     warmer better   \n",
       "Barnyard Mix                                    rare               any   \n",
       "Bantam Barred Rock                               NaN               NaN   \n",
       "Nankin Bantams                              frequent               any   \n",
       "Transylvanian Naked Neck                         NaN               NaN   \n",
       "Booted                                      frequent     warmer better   \n",
       "Blue Isbar                                       NaN               NaN   \n",
       "Mottled Cochin                                   NaN               any   \n",
       "Russian Orloff                               average               any   \n",
       "Pyncheon                                     average               any   \n",
       "Pavlovskaja                                      NaN     colder better   \n",
       "Aloha Chickens                               average     warmer better   \n",
       "Modern Game                                 frequent     warmer better   \n",
       "Showgirl                                    frequent               any   \n",
       "Belgian D' Anver                            frequent               any   \n",
       "Rhode Island White                           average     colder better   \n",
       "British Tailed Araucana                      average               any   \n",
       "Rosecomb                                    frequent               any   \n",
       "Crevecoeur                                      rare               any   \n",
       "Belgian D' Uccle                             average               any   \n",
       "Cubalaya                                     average               any   \n",
       "Icelandic Or Viking Hen                      average               any   \n",
       "Serama                                      frequent     warmer better   \n",
       "Cornish Bantams                              average               any   \n",
       "Bantam Partridge Wyandotte                   average               any   \n",
       "Rhodebar                                     average               any   \n",
       "Ayam Cemani                                     poor               any   \n",
       "Dutch                                       frequent               any   \n",
       "Amber Whites                                    rare               any   \n",
       "Naked Neck-turken                            average               any   \n",
       "Vorwerk                                         rare               any   \n",
       "Salmon Favorelle                             average               any   \n",
       "Svart Hona                                       NaN               NaN   \n",
       "Minorca                                         rare     warmer better   \n",
       "Sussex                                      frequent               any   \n",
       "Legbar                                          rare               NaN   \n",
       "Langshan                                    frequent               any   \n",
       "Red-breasted Rosecomb Bantam                    rare               any   \n",
       "Sulmtaler                                   frequent               any   \n",
       "Sultan                                          rare     warmer better   \n",
       "Golden Comet                                    rare     warmer better   \n",
       "Euskal Oiloa - Marraduna Basque                  NaN               NaN   \n",
       "Easter Egger Bantam                             rare     colder better   \n",
       "Arau-ameraucana                              average               any   \n",
       "Welbar                                           NaN               NaN   \n",
       "Whiting True Blue                               poor     colder better   \n",
       "\n",
       "                                          egg productivity egg size breed size  \n",
       "breed                                                                           \n",
       "Gallo Kelso                                         medium   medium      large  \n",
       "Columbian Blacktails                                  high   medium      large  \n",
       "Russian Crested                                     medium    large      large  \n",
       "Pita Pinta                                             NaN      NaN     medium  \n",
       "Smaaland                                              high   medium     medium  \n",
       "KraienkÃ¶ppe                                          high    large      large  \n",
       "Gallo Giro                                          medium   medium      large  \n",
       "East Frisian Gull - An Old World Landrace              NaN      NaN        NaN  \n",
       "Cuckoo Maran                                        medium    large      large  \n",
       "Sapphire Gem                                          high    large        NaN  \n",
       "Barnyard Mix                                           NaN      NaN     medium  \n",
       "Bantam Barred Rock                                     NaN      NaN        NaN  \n",
       "Nankin Bantams                                      medium    small      small  \n",
       "Transylvanian Naked Neck                               NaN      NaN        NaN  \n",
       "Booted                                              medium    small      small  \n",
       "Blue Isbar                                             NaN      NaN        NaN  \n",
       "Mottled Cochin                                      medium    small      small  \n",
       "Russian Orloff                                      medium   medium      large  \n",
       "Pyncheon                                               low    small      small  \n",
       "Pavlovskaja                                         medium   medium      large  \n",
       "Aloha Chickens                                        high    small      large  \n",
       "Modern Game                                            low    small      small  \n",
       "Showgirl                                            medium    small      small  \n",
       "Belgian D' Anver                                    medium    small      small  \n",
       "Rhode Island White                                    high    large      large  \n",
       "British Tailed Araucana                             medium   medium      large  \n",
       "Rosecomb                                               low    small      small  \n",
       "Crevecoeur                                             low   medium      large  \n",
       "Belgian D' Uccle                                    medium    small      small  \n",
       "Cubalaya                                            medium   medium      large  \n",
       "Icelandic Or Viking Hen                             medium   medium      large  \n",
       "Serama                                                 low    small      small  \n",
       "Cornish Bantams                                        low    small      small  \n",
       "Bantam Partridge Wyandotte                          medium    small      small  \n",
       "Rhodebar                                              high    large      large  \n",
       "Ayam Cemani                                            NaN   medium      large  \n",
       "Dutch                                               medium    small      small  \n",
       "Amber Whites                                          high    large      large  \n",
       "Naked Neck-turken                                      low    large      large  \n",
       "Vorwerk                                             medium   medium      small  \n",
       "Salmon Favorelle                                    medium   medium      large  \n",
       "Svart Hona                                            high    large     medium  \n",
       "Minorca                                               high    large      large  \n",
       "Sussex                                                high    large      large  \n",
       "Legbar                                              medium   medium      large  \n",
       "Langshan                                            medium    large      large  \n",
       "Red-breasted Rosecomb Bantam                        medium    small      small  \n",
       "Sulmtaler                                           medium    large      large  \n",
       "Sultan                                                 low    small      large  \n",
       "Golden Comet                                           NaN    large      large  \n",
       "Euskal Oiloa - Marraduna Basque                        NaN      NaN        NaN  \n",
       "Easter Egger Bantam                                 medium    small      small  \n",
       "Arau-ameraucana                                     medium   medium      large  \n",
       "Welbar                                                high    large      large  \n",
       "Whiting True Blue                                     high    large        NaN  "
      ]
     },
     "execution_count": 27,
     "metadata": {},
     "output_type": "execute_result"
    }
   ],
   "source": [
    "najbolje_ocenjene = uporabniki_putke[uporabniki_putke['mark'] >= 4.5].copy()\n",
    "najbolje_ocenjene.sort_values('mark', ascending=False)"
   ]
  },
  {
   "cell_type": "markdown",
   "id": "several-conversion",
   "metadata": {},
   "source": [
    "Hitro opazimo, da so na vrhu, med najbolje ocenjenimi, tudi kokoši, ki imajo le en glas - eno samo petico. Seveda to ni najbolj merodajen podatek, zato si postavimo nov kriterij: za \"dobro\" kokoš naj bo ocena višja od 4,7, število glasov pa naj bo (glede na povprečnih 38) vsaj 15."
   ]
  },
  {
   "cell_type": "code",
   "execution_count": 28,
   "id": "fabulous-satellite",
   "metadata": {
    "scrolled": false
   },
   "outputs": [
    {
     "data": {
      "text/html": [
       "<div>\n",
       "<style scoped>\n",
       "    .dataframe tbody tr th:only-of-type {\n",
       "        vertical-align: middle;\n",
       "    }\n",
       "\n",
       "    .dataframe tbody tr th {\n",
       "        vertical-align: top;\n",
       "    }\n",
       "\n",
       "    .dataframe thead th {\n",
       "        text-align: right;\n",
       "    }\n",
       "</style>\n",
       "<table border=\"1\" class=\"dataframe\">\n",
       "  <thead>\n",
       "    <tr style=\"text-align: right;\">\n",
       "      <th></th>\n",
       "      <th>mark</th>\n",
       "      <th>number of ratings</th>\n",
       "      <th>number of comments</th>\n",
       "      <th>number of reviews</th>\n",
       "      <th>number of views</th>\n",
       "      <th>broodiness</th>\n",
       "      <th>climate tolerance</th>\n",
       "      <th>egg productivity</th>\n",
       "      <th>egg size</th>\n",
       "      <th>breed size</th>\n",
       "    </tr>\n",
       "    <tr>\n",
       "      <th>breed</th>\n",
       "      <th></th>\n",
       "      <th></th>\n",
       "      <th></th>\n",
       "      <th></th>\n",
       "      <th></th>\n",
       "      <th></th>\n",
       "      <th></th>\n",
       "      <th></th>\n",
       "      <th></th>\n",
       "      <th></th>\n",
       "    </tr>\n",
       "  </thead>\n",
       "  <tbody>\n",
       "    <tr>\n",
       "      <th>Nankin Bantams</th>\n",
       "      <td>4.94</td>\n",
       "      <td>16.0</td>\n",
       "      <td>13.0</td>\n",
       "      <td>15.0</td>\n",
       "      <td>13164</td>\n",
       "      <td>frequent</td>\n",
       "      <td>any</td>\n",
       "      <td>medium</td>\n",
       "      <td>small</td>\n",
       "      <td>small</td>\n",
       "    </tr>\n",
       "    <tr>\n",
       "      <th>Russian Orloff</th>\n",
       "      <td>4.75</td>\n",
       "      <td>16.0</td>\n",
       "      <td>18.0</td>\n",
       "      <td>15.0</td>\n",
       "      <td>56323</td>\n",
       "      <td>average</td>\n",
       "      <td>any</td>\n",
       "      <td>medium</td>\n",
       "      <td>medium</td>\n",
       "      <td>large</td>\n",
       "    </tr>\n",
       "    <tr>\n",
       "      <th>Modern Game</th>\n",
       "      <td>4.72</td>\n",
       "      <td>18.0</td>\n",
       "      <td>24.0</td>\n",
       "      <td>17.0</td>\n",
       "      <td>18315</td>\n",
       "      <td>frequent</td>\n",
       "      <td>warmer better</td>\n",
       "      <td>low</td>\n",
       "      <td>small</td>\n",
       "      <td>small</td>\n",
       "    </tr>\n",
       "    <tr>\n",
       "      <th>Showgirl</th>\n",
       "      <td>4.72</td>\n",
       "      <td>18.0</td>\n",
       "      <td>23.0</td>\n",
       "      <td>18.0</td>\n",
       "      <td>34881</td>\n",
       "      <td>frequent</td>\n",
       "      <td>any</td>\n",
       "      <td>medium</td>\n",
       "      <td>small</td>\n",
       "      <td>small</td>\n",
       "    </tr>\n",
       "    <tr>\n",
       "      <th>Belgian D' Anver</th>\n",
       "      <td>4.69</td>\n",
       "      <td>26.0</td>\n",
       "      <td>12.0</td>\n",
       "      <td>25.0</td>\n",
       "      <td>28687</td>\n",
       "      <td>frequent</td>\n",
       "      <td>any</td>\n",
       "      <td>medium</td>\n",
       "      <td>small</td>\n",
       "      <td>small</td>\n",
       "    </tr>\n",
       "    <tr>\n",
       "      <th>Crevecoeur</th>\n",
       "      <td>4.67</td>\n",
       "      <td>15.0</td>\n",
       "      <td>22.0</td>\n",
       "      <td>15.0</td>\n",
       "      <td>20782</td>\n",
       "      <td>rare</td>\n",
       "      <td>any</td>\n",
       "      <td>low</td>\n",
       "      <td>medium</td>\n",
       "      <td>large</td>\n",
       "    </tr>\n",
       "    <tr>\n",
       "      <th>Belgian D' Uccle</th>\n",
       "      <td>4.66</td>\n",
       "      <td>80.0</td>\n",
       "      <td>53.0</td>\n",
       "      <td>77.0</td>\n",
       "      <td>195823</td>\n",
       "      <td>average</td>\n",
       "      <td>any</td>\n",
       "      <td>medium</td>\n",
       "      <td>small</td>\n",
       "      <td>small</td>\n",
       "    </tr>\n",
       "    <tr>\n",
       "      <th>Icelandic Or Viking Hen</th>\n",
       "      <td>4.63</td>\n",
       "      <td>16.0</td>\n",
       "      <td>20.0</td>\n",
       "      <td>16.0</td>\n",
       "      <td>23995</td>\n",
       "      <td>average</td>\n",
       "      <td>any</td>\n",
       "      <td>medium</td>\n",
       "      <td>medium</td>\n",
       "      <td>large</td>\n",
       "    </tr>\n",
       "    <tr>\n",
       "      <th>Serama</th>\n",
       "      <td>4.62</td>\n",
       "      <td>47.0</td>\n",
       "      <td>60.0</td>\n",
       "      <td>47.0</td>\n",
       "      <td>65031</td>\n",
       "      <td>frequent</td>\n",
       "      <td>warmer better</td>\n",
       "      <td>low</td>\n",
       "      <td>small</td>\n",
       "      <td>small</td>\n",
       "    </tr>\n",
       "    <tr>\n",
       "      <th>Dutch</th>\n",
       "      <td>4.59</td>\n",
       "      <td>17.0</td>\n",
       "      <td>12.0</td>\n",
       "      <td>15.0</td>\n",
       "      <td>10549</td>\n",
       "      <td>frequent</td>\n",
       "      <td>any</td>\n",
       "      <td>medium</td>\n",
       "      <td>small</td>\n",
       "      <td>small</td>\n",
       "    </tr>\n",
       "    <tr>\n",
       "      <th>Naked Neck-turken</th>\n",
       "      <td>4.56</td>\n",
       "      <td>48.0</td>\n",
       "      <td>48.0</td>\n",
       "      <td>46.0</td>\n",
       "      <td>43419</td>\n",
       "      <td>average</td>\n",
       "      <td>any</td>\n",
       "      <td>low</td>\n",
       "      <td>large</td>\n",
       "      <td>large</td>\n",
       "    </tr>\n",
       "    <tr>\n",
       "      <th>Salmon Favorelle</th>\n",
       "      <td>4.56</td>\n",
       "      <td>16.0</td>\n",
       "      <td>22.0</td>\n",
       "      <td>14.0</td>\n",
       "      <td>17700</td>\n",
       "      <td>average</td>\n",
       "      <td>any</td>\n",
       "      <td>medium</td>\n",
       "      <td>medium</td>\n",
       "      <td>large</td>\n",
       "    </tr>\n",
       "    <tr>\n",
       "      <th>Sussex</th>\n",
       "      <td>4.53</td>\n",
       "      <td>100.0</td>\n",
       "      <td>126.0</td>\n",
       "      <td>99.0</td>\n",
       "      <td>72981</td>\n",
       "      <td>frequent</td>\n",
       "      <td>any</td>\n",
       "      <td>high</td>\n",
       "      <td>large</td>\n",
       "      <td>large</td>\n",
       "    </tr>\n",
       "    <tr>\n",
       "      <th>Langshan</th>\n",
       "      <td>4.52</td>\n",
       "      <td>21.0</td>\n",
       "      <td>11.0</td>\n",
       "      <td>21.0</td>\n",
       "      <td>34648</td>\n",
       "      <td>frequent</td>\n",
       "      <td>any</td>\n",
       "      <td>medium</td>\n",
       "      <td>large</td>\n",
       "      <td>large</td>\n",
       "    </tr>\n",
       "    <tr>\n",
       "      <th>Legbar</th>\n",
       "      <td>4.52</td>\n",
       "      <td>25.0</td>\n",
       "      <td>62.0</td>\n",
       "      <td>25.0</td>\n",
       "      <td>30948</td>\n",
       "      <td>rare</td>\n",
       "      <td>NaN</td>\n",
       "      <td>medium</td>\n",
       "      <td>medium</td>\n",
       "      <td>large</td>\n",
       "    </tr>\n",
       "    <tr>\n",
       "      <th>Sultan</th>\n",
       "      <td>4.50</td>\n",
       "      <td>18.0</td>\n",
       "      <td>26.0</td>\n",
       "      <td>17.0</td>\n",
       "      <td>24544</td>\n",
       "      <td>rare</td>\n",
       "      <td>warmer better</td>\n",
       "      <td>low</td>\n",
       "      <td>small</td>\n",
       "      <td>large</td>\n",
       "    </tr>\n",
       "  </tbody>\n",
       "</table>\n",
       "</div>"
      ],
      "text/plain": [
       "                         mark  number of ratings  number of comments  \\\n",
       "breed                                                                  \n",
       "Nankin Bantams           4.94               16.0                13.0   \n",
       "Russian Orloff           4.75               16.0                18.0   \n",
       "Modern Game              4.72               18.0                24.0   \n",
       "Showgirl                 4.72               18.0                23.0   \n",
       "Belgian D' Anver         4.69               26.0                12.0   \n",
       "Crevecoeur               4.67               15.0                22.0   \n",
       "Belgian D' Uccle         4.66               80.0                53.0   \n",
       "Icelandic Or Viking Hen  4.63               16.0                20.0   \n",
       "Serama                   4.62               47.0                60.0   \n",
       "Dutch                    4.59               17.0                12.0   \n",
       "Naked Neck-turken        4.56               48.0                48.0   \n",
       "Salmon Favorelle         4.56               16.0                22.0   \n",
       "Sussex                   4.53              100.0               126.0   \n",
       "Langshan                 4.52               21.0                11.0   \n",
       "Legbar                   4.52               25.0                62.0   \n",
       "Sultan                   4.50               18.0                26.0   \n",
       "\n",
       "                         number of reviews  number of views broodiness  \\\n",
       "breed                                                                    \n",
       "Nankin Bantams                        15.0            13164   frequent   \n",
       "Russian Orloff                        15.0            56323    average   \n",
       "Modern Game                           17.0            18315   frequent   \n",
       "Showgirl                              18.0            34881   frequent   \n",
       "Belgian D' Anver                      25.0            28687   frequent   \n",
       "Crevecoeur                            15.0            20782       rare   \n",
       "Belgian D' Uccle                      77.0           195823    average   \n",
       "Icelandic Or Viking Hen               16.0            23995    average   \n",
       "Serama                                47.0            65031   frequent   \n",
       "Dutch                                 15.0            10549   frequent   \n",
       "Naked Neck-turken                     46.0            43419    average   \n",
       "Salmon Favorelle                      14.0            17700    average   \n",
       "Sussex                                99.0            72981   frequent   \n",
       "Langshan                              21.0            34648   frequent   \n",
       "Legbar                                25.0            30948       rare   \n",
       "Sultan                                17.0            24544       rare   \n",
       "\n",
       "                        climate tolerance egg productivity egg size breed size  \n",
       "breed                                                                           \n",
       "Nankin Bantams                        any           medium    small      small  \n",
       "Russian Orloff                        any           medium   medium      large  \n",
       "Modern Game                 warmer better              low    small      small  \n",
       "Showgirl                              any           medium    small      small  \n",
       "Belgian D' Anver                      any           medium    small      small  \n",
       "Crevecoeur                            any              low   medium      large  \n",
       "Belgian D' Uccle                      any           medium    small      small  \n",
       "Icelandic Or Viking Hen               any           medium   medium      large  \n",
       "Serama                      warmer better              low    small      small  \n",
       "Dutch                                 any           medium    small      small  \n",
       "Naked Neck-turken                     any              low    large      large  \n",
       "Salmon Favorelle                      any           medium   medium      large  \n",
       "Sussex                                any             high    large      large  \n",
       "Langshan                              any           medium    large      large  \n",
       "Legbar                                NaN           medium   medium      large  \n",
       "Sultan                      warmer better              low    small      large  "
      ]
     },
     "execution_count": 28,
     "metadata": {},
     "output_type": "execute_result"
    }
   ],
   "source": [
    "najbolje_ocenjene2 = uporabniki_putke[(uporabniki_putke['mark'] >= 4.5) & (uporabniki_putke['number of ratings'] >= 15)].copy()\n",
    "najbolje_ocenjene2.sort_values('mark', ascending=False)"
   ]
  },
  {
   "cell_type": "markdown",
   "id": "superb-laser",
   "metadata": {},
   "source": [
    "Tako bo bolje. Poglejmo, kaj počnejo najbolje ocenjene kokoši."
   ]
  },
  {
   "cell_type": "code",
   "execution_count": 29,
   "id": "impressive-azerbaijan",
   "metadata": {},
   "outputs": [
    {
     "data": {
      "text/plain": [
       "breed\n",
       "Nankin Bantams             4.94\n",
       "Russian Orloff             4.75\n",
       "Modern Game                4.72\n",
       "Showgirl                   4.72\n",
       "Belgian D' Anver           4.69\n",
       "Crevecoeur                 4.67\n",
       "Belgian D' Uccle           4.66\n",
       "Icelandic Or Viking Hen    4.63\n",
       "Serama                     4.62\n",
       "Dutch                      4.59\n",
       "Naked Neck-turken          4.56\n",
       "Salmon Favorelle           4.56\n",
       "Sussex                     4.53\n",
       "Langshan                   4.52\n",
       "Legbar                     4.52\n",
       "Sultan                     4.50\n",
       "Name: mark, dtype: float64"
      ]
     },
     "execution_count": 29,
     "metadata": {},
     "output_type": "execute_result"
    }
   ],
   "source": [
    "stevilo_najbolje_ocenjenih = len(najbolje_ocenjene2)\n",
    "ocenjene_in_nameni = pd.merge(najbolje_ocenjene2, nameni_vrste, left_on='breed', right_on='breed')\n",
    "najbolje_ocenjene2.sort_values('mark', ascending=False)['mark']"
   ]
  },
  {
   "cell_type": "code",
   "execution_count": 30,
   "id": "monetary-chapel",
   "metadata": {
    "scrolled": true
   },
   "outputs": [
    {
     "data": {
      "text/plain": [
       "16"
      ]
     },
     "execution_count": 30,
     "metadata": {},
     "output_type": "execute_result"
    }
   ],
   "source": [
    "stevilo_najbolje_ocenjenih"
   ]
  },
  {
   "cell_type": "code",
   "execution_count": 31,
   "id": "super-investment",
   "metadata": {},
   "outputs": [
    {
     "data": {
      "text/plain": [
       "breed\n",
       "Belgian D' Anver           ornamental\n",
       "Belgian D' Uccle           ornamental\n",
       "Crevecoeur                       eggs\n",
       "Crevecoeur                       meat\n",
       "Dutch                      ornamental\n",
       "Icelandic Or Viking Hen          eggs\n",
       "Icelandic Or Viking Hen          meat\n",
       "Langshan                         eggs\n",
       "Langshan                         meat\n",
       "Legbar                           eggs\n",
       "Legbar                           meat\n",
       "Modern Game                ornamental\n",
       "Naked Neck-turken                eggs\n",
       "Naked Neck-turken                meat\n",
       "Nankin Bantams                   eggs\n",
       "Nankin Bantams                   meat\n",
       "Russian Orloff                   eggs\n",
       "Russian Orloff                   meat\n",
       "Salmon Favorelle                 eggs\n",
       "Salmon Favorelle                 meat\n",
       "Serama                     ornamental\n",
       "Showgirl                   ornamental\n",
       "Sultan                     ornamental\n",
       "Sussex                           eggs\n",
       "Sussex                           meat\n",
       "Name: breed purpose, dtype: object"
      ]
     },
     "execution_count": 31,
     "metadata": {},
     "output_type": "execute_result"
    }
   ],
   "source": [
    "ocenjene_in_nameni['breed purpose']"
   ]
  },
  {
   "cell_type": "code",
   "execution_count": 32,
   "id": "knowing-preview",
   "metadata": {},
   "outputs": [
    {
     "data": {
      "text/plain": [
       "breed purpose\n",
       "eggs          9\n",
       "meat          9\n",
       "ornamental    7\n",
       "dtype: int64"
      ]
     },
     "execution_count": 32,
     "metadata": {},
     "output_type": "execute_result"
    }
   ],
   "source": [
    "ocenjene_in_nameni.groupby('breed purpose').size()"
   ]
  },
  {
   "cell_type": "markdown",
   "id": "higher-lafayette",
   "metadata": {},
   "source": [
    "Med najbolje ocenjenimi pa kokošni nesnice ne prevladujejo. Devet od 16 najbolje ocenjenih kokoši je gojenih tako za jajca kot za meso, sedem pa je okrasnih. Našo hipotezo, da so najbolje ocenjene nesnice, ovržemo."
   ]
  },
  {
   "cell_type": "markdown",
   "id": "acute-creation",
   "metadata": {},
   "source": [
    "### Komentarji in ogledi\n",
    "Poglejmo še, kako je število komentarjev povezano s številom ogledov."
   ]
  },
  {
   "cell_type": "code",
   "execution_count": 33,
   "id": "inside-interference",
   "metadata": {},
   "outputs": [
    {
     "data": {
      "text/plain": [
       "<AxesSubplot:xlabel='number of views', ylabel='number of comments'>"
      ]
     },
     "execution_count": 33,
     "metadata": {},
     "output_type": "execute_result"
    },
    {
     "data": {
      "image/png": "[encoded data removed]",
      "text/plain": [
       "<Figure size 432x288 with 1 Axes>"
      ]
     },
     "metadata": {
      "needs_background": "light"
     },
     "output_type": "display_data"
    }
   ],
   "source": [
    "uporabniki_putke.plot.scatter(x=\"number of views\", y='number of comments')"
   ]
  },
  {
   "cell_type": "markdown",
   "id": "adopted-probability",
   "metadata": {},
   "source": [
    "Kokošje vrste z malo ogledi (manj od 50000) imajo tudi malo komentarjev, z več ogledi pa načeloma pride tudi več komentarjev, čeprav to ni nujno, saj ima najbol ogledana vrsta (že prej smo ugotovili, da je to Belgian D' Uccle) ob skoraj 200000 ogledih manj kot 100 komentarjev."
   ]
  },
  {
   "cell_type": "markdown",
   "id": "usual-salvation",
   "metadata": {},
   "source": [
    "![kokoš](putka.jpg)"
   ]
  }
 ],
 "metadata": {
  "kernelspec": {
   "display_name": "Python 3",
   "language": "python",
   "name": "python3"
  },
  "language_info": {
   "codemirror_mode": {
    "name": "ipython",
    "version": 3
   },
   "file_extension": ".py",
   "mimetype": "text/x-python",
   "name": "python",
   "nbconvert_exporter": "python",
   "pygments_lexer": "ipython3",
   "version": "3.6.9"
  }
 },
 "nbformat": 4,
 "nbformat_minor": 5
}
